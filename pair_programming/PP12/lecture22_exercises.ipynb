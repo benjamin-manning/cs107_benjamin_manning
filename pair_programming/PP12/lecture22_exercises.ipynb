{
 "cells": [
  {
   "cell_type": "markdown",
   "metadata": {
    "cell_id": "00000-78a35326-1554-432f-986c-bd5e6716a1f5",
    "deepnote_cell_type": "markdown"
   },
   "source": [
    "# Lecture 22\n",
    "## Thursday, November 19th 2020\n",
    "### Joins with `SQLite`, `pandas`"
   ]
  },
  {
   "cell_type": "markdown",
   "metadata": {
    "cell_id": "00001-2b3dd965-55b5-4997-b9e2-cd6354344763",
    "deepnote_cell_type": "markdown"
   },
   "source": [
    "## Starting Up - WORKED WITH MATT AND ELAINE!\n",
    "You can connect to the saved database from last time if you want.  Alternatively, for extra practice, you can just recreate it from the datasets provided in the `.txt` files.  That's what I'll do.\n",
    "\n",
    "### Comments\n",
    "You should make a copy of this notebook and call it `Lecture22_Exercises.ipynb`. Do all excercises in a single cell immediately after the Exercise statement similarly to what you did in Lecture 21."
   ]
  },
  {
   "cell_type": "code",
   "execution_count": 1,
   "metadata": {
    "cell_id": "00002-0186abe1-285f-45b9-be6e-50ee4288867e",
    "deepnote_cell_type": "code",
    "execution_millis": 3186,
    "execution_start": 1605805543390,
    "output_cleared": false,
    "source_hash": "ed36f85f"
   },
   "outputs": [],
   "source": [
    "import sqlite3\n",
    "import numpy as np\n",
    "import pandas as pd\n",
    "import time\n",
    "pd.set_option('display.width', 500)\n",
    "pd.set_option('display.max_columns', 100)\n",
    "pd.set_option('display.notebook_repr_html', True)\n",
    "\n",
    "db = sqlite3.connect('L22DB_demo.sqlite')\n",
    "cursor = db.cursor()\n",
    "cursor.execute(\"DROP TABLE IF EXISTS candidates\")\n",
    "cursor.execute(\"DROP TABLE IF EXISTS contributors\")\n",
    "cursor.execute(\"PRAGMA foreign_keys=1\")\n",
    "\n",
    "cursor.execute('''CREATE TABLE candidates (\n",
    "               id INTEGER PRIMARY KEY NOT NULL, \n",
    "               first_name TEXT, \n",
    "               last_name TEXT, \n",
    "               middle_init TEXT, \n",
    "               party TEXT NOT NULL)''')\n",
    "\n",
    "db.commit() # Commit changes to the database\n",
    "\n",
    "cursor.execute('''CREATE TABLE contributors (\n",
    "          id INTEGER PRIMARY KEY AUTOINCREMENT NOT NULL, \n",
    "          last_name TEXT, \n",
    "          first_name TEXT, \n",
    "          middle_name TEXT, \n",
    "          street_1 TEXT, \n",
    "          street_2 TEXT, \n",
    "          city TEXT, \n",
    "          state TEXT, \n",
    "          zip TEXT, \n",
    "          amount REAL, \n",
    "          date DATETIME, \n",
    "          candidate_id INTEGER NOT NULL, \n",
    "          FOREIGN KEY(candidate_id) REFERENCES candidates(id))''')\n",
    "\n",
    "db.commit()\n",
    "\n",
    "with open (\"candidates.txt\") as candidates:\n",
    "    next(candidates) # jump over the header\n",
    "    for line in candidates.readlines():\n",
    "        cid, first_name, last_name, middle_name, party = line.strip().split('|')\n",
    "        vals_to_insert = (int(cid), first_name, last_name, middle_name, party)\n",
    "        cursor.execute('''INSERT INTO candidates \n",
    "                  (id, first_name, last_name, middle_init, party)\n",
    "                  VALUES (?, ?, ?, ?, ?)''', vals_to_insert)\n",
    "\n",
    "with open (\"contributors.txt\") as contributors:\n",
    "    next(contributors)\n",
    "    for line in contributors.readlines():\n",
    "        cid, last_name, first_name, middle_name, street_1, street_2, \\\n",
    "            city, state, zip_code, amount, date, candidate_id = line.strip().split('|')\n",
    "        vals_to_insert = (last_name, first_name, middle_name, street_1, street_2, \n",
    "                          city, state, int(zip_code), amount, date, candidate_id)\n",
    "        cursor.execute('''INSERT INTO contributors (last_name, first_name, middle_name, \n",
    "                           street_1, street_2, city, state, zip, amount, date, candidate_id) \n",
    "                           VALUES (?, ?, ?, ?, ?, ?, ?, ?, ?, ?, ?)''', vals_to_insert)\n",
    "\n",
    "candidate_cols = [col[1] for col in cursor.execute(\"PRAGMA table_info(candidates)\")]\n",
    "contributor_cols = [col[1] for col in cursor.execute(\"PRAGMA table_info(contributors)\")]\n",
    "\n",
    "def viz_tables(cols, query):\n",
    "    q = cursor.execute(query).fetchall()\n",
    "    framelist = dict()\n",
    "    for i, col_name in enumerate(cols):\n",
    "        framelist[col_name] = [col[i] for col in q]\n",
    "    return pd.DataFrame.from_dict(framelist)\n",
    "\n",
    "from IPython.display import display"
   ]
  },
  {
   "cell_type": "markdown",
   "metadata": {
    "cell_id": "00003-a441fc5d-0c49-4b52-adb6-ed0348074cf2",
    "deepnote_cell_type": "markdown"
   },
   "source": [
    "## Recap\n",
    "Last time, you played with a bunch of `SQLite` commands to query and update the tables in the database.\n",
    "\n",
    "One thing we didn't get to was how to query the contributors table based off of a query in the candidates table.  For example, suppose you want to query which contributors donated to Obama. You could use a nested `SELECT` statement to accomplish that."
   ]
  },
  {
   "cell_type": "code",
   "execution_count": 2,
   "metadata": {
    "cell_id": "00004-c3c54eac-92f9-4694-b225-ed28b14c6ca6",
    "deepnote_cell_type": "code",
    "execution_millis": 137,
    "execution_start": 1605805554171,
    "output_cleared": false,
    "source_hash": "bf80f84a"
   },
   "outputs": [
    {
     "data": {
      "application/vnd.deepnote.dataframe.v2+json": {
       "column_count": 12,
       "columns": [
        {
         "dtype": "int64",
         "name": "id",
         "stats": {
          "histogram": [
           {
            "bin_end": 28.4,
            "bin_start": 26,
            "count": 3
           },
           {
            "bin_end": 30.8,
            "bin_start": 28.4,
            "count": 2
           },
           {
            "bin_end": 33.2,
            "bin_start": 30.8,
            "count": 3
           },
           {
            "bin_end": 35.6,
            "bin_start": 33.2,
            "count": 2
           },
           {
            "bin_end": 38,
            "bin_start": 35.6,
            "count": 2
           },
           {
            "bin_end": 40.4,
            "bin_start": 38,
            "count": 3
           },
           {
            "bin_end": 42.8,
            "bin_start": 40.4,
            "count": 2
           },
           {
            "bin_end": 45.2,
            "bin_start": 42.8,
            "count": 3
           },
           {
            "bin_end": 47.599999999999994,
            "bin_start": 45.2,
            "count": 2
           },
           {
            "bin_end": 50,
            "bin_start": 47.599999999999994,
            "count": 3
           }
          ],
          "max": 50,
          "min": 26,
          "nan_count": 0,
          "unique_count": 25
         }
        },
        {
         "dtype": "object",
         "name": "last_name",
         "stats": {
          "categories": [
           {
            "count": 10,
            "name": "Buchanan"
           },
           {
            "count": 5,
            "name": "Buck"
           },
           {
            "count": 10,
            "name": "7 others"
           }
          ],
          "nan_count": 0,
          "unique_count": 9
         }
        },
        {
         "dtype": "object",
         "name": "first_name",
         "stats": {
          "categories": [
           {
            "count": 10,
            "name": "John"
           },
           {
            "count": 3,
            "name": "Linda"
           },
           {
            "count": 12,
            "name": "10 others"
           }
          ],
          "nan_count": 0,
          "unique_count": 12
         }
        },
        {
         "dtype": "object",
         "name": "middle_name",
         "stats": {
          "categories": [
           {
            "count": 22,
            "name": ""
           },
           {
            "count": 2,
            "name": "M"
           },
           {
            "count": 1,
            "name": "K."
           }
          ],
          "nan_count": 0,
          "unique_count": 3
         }
        },
        {
         "dtype": "object",
         "name": "street_1",
         "stats": {
          "categories": [
           {
            "count": 9,
            "name": "2025 NW 29th Rd"
           },
           {
            "count": 3,
            "name": "PO Box 683130"
           },
           {
            "count": 13,
            "name": "11 others"
           }
          ],
          "nan_count": 0,
          "unique_count": 13
         }
        },
        {
         "dtype": "object",
         "name": "street_2",
         "stats": {
          "categories": [
           {
            "count": 25,
            "name": ""
           }
          ],
          "nan_count": 0,
          "unique_count": 1
         }
        },
        {
         "dtype": "object",
         "name": "city",
         "stats": {
          "categories": [
           {
            "count": 9,
            "name": "Boca Raton"
           },
           {
            "count": 3,
            "name": "Park City"
           },
           {
            "count": 13,
            "name": "11 others"
           }
          ],
          "nan_count": 0,
          "unique_count": 13
         }
        },
        {
         "dtype": "object",
         "name": "state",
         "stats": {
          "categories": [
           {
            "count": 11,
            "name": "FL"
           },
           {
            "count": 5,
            "name": "CA"
           },
           {
            "count": 9,
            "name": "7 others"
           }
          ],
          "nan_count": 0,
          "unique_count": 9
         }
        },
        {
         "dtype": "object",
         "name": "zip",
         "stats": {
          "categories": [
           {
            "count": 9,
            "name": "334316303"
           },
           {
            "count": 3,
            "name": "840683130"
           },
           {
            "count": 13,
            "name": "11 others"
           }
          ],
          "nan_count": 0,
          "unique_count": 13
         }
        },
        {
         "dtype": "float64",
         "name": "amount",
         "stats": {
          "histogram": [
           {
            "bin_end": -1610,
            "bin_start": -2300,
            "count": 1
           },
           {
            "bin_end": -920,
            "bin_start": -1610,
            "count": 0
           },
           {
            "bin_end": -230,
            "bin_start": -920,
            "count": 2
           },
           {
            "bin_end": 460,
            "bin_start": -230,
            "count": 12
           },
           {
            "bin_end": 1150,
            "bin_start": 460,
            "count": 6
           },
           {
            "bin_end": 1840,
            "bin_start": 1150,
            "count": 1
           },
           {
            "bin_end": 2530,
            "bin_start": 1840,
            "count": 2
           },
           {
            "bin_end": 3220,
            "bin_start": 2530,
            "count": 0
           },
           {
            "bin_end": 3910,
            "bin_start": 3220,
            "count": 0
           },
           {
            "bin_end": 4600,
            "bin_start": 3910,
            "count": 1
           }
          ],
          "max": 4600,
          "min": -2300,
          "nan_count": 0,
          "unique_count": 15
         }
        },
        {
         "dtype": "object",
         "name": "date",
         "stats": {
          "categories": [
           {
            "count": 4,
            "name": "2007-08-14"
           },
           {
            "count": 3,
            "name": "2007-09-24"
           },
           {
            "count": 18,
            "name": "15 others"
           }
          ],
          "nan_count": 0,
          "unique_count": 17
         }
        },
        {
         "dtype": "int64",
         "name": "candidate_id",
         "stats": {
          "histogram": [
           {
            "bin_end": 19.6,
            "bin_start": 19.5,
            "count": 0
           },
           {
            "bin_end": 19.7,
            "bin_start": 19.6,
            "count": 0
           },
           {
            "bin_end": 19.8,
            "bin_start": 19.7,
            "count": 0
           },
           {
            "bin_end": 19.9,
            "bin_start": 19.8,
            "count": 0
           },
           {
            "bin_end": 20,
            "bin_start": 19.9,
            "count": 0
           },
           {
            "bin_end": 20.1,
            "bin_start": 20,
            "count": 25
           },
           {
            "bin_end": 20.2,
            "bin_start": 20.1,
            "count": 0
           },
           {
            "bin_end": 20.3,
            "bin_start": 20.2,
            "count": 0
           },
           {
            "bin_end": 20.4,
            "bin_start": 20.3,
            "count": 0
           },
           {
            "bin_end": 20.5,
            "bin_start": 20.4,
            "count": 0
           }
          ],
          "max": 20,
          "min": 20,
          "nan_count": 0,
          "unique_count": 1
         }
        },
        {
         "dtype": "int64",
         "name": "_deepnote_index_column"
        }
       ],
       "row_count": 25,
       "rows_bottom": null,
       "rows_top": [
        {
         "_deepnote_index_column": 0,
         "amount": 50,
         "candidate_id": 20,
         "city": "Dana Point",
         "date": "2007-07-30",
         "first_name": "Steve",
         "id": 26,
         "last_name": "Buckler",
         "middle_name": "",
         "state": "CA",
         "street_1": "24351 Armada Dr",
         "street_2": "",
         "zip": "926291306"
        },
        {
         "_deepnote_index_column": 1,
         "amount": 25,
         "candidate_id": 20,
         "city": "Dana Point",
         "date": "2007-08-16",
         "first_name": "Steve",
         "id": 27,
         "last_name": "Buckler",
         "middle_name": "",
         "state": "CA",
         "street_1": "24351 Armada Dr",
         "street_2": "",
         "zip": "926291306"
        },
        {
         "_deepnote_index_column": 2,
         "amount": 100,
         "candidate_id": 20,
         "city": "FAIRFAX",
         "date": "2007-09-19",
         "first_name": "Bruce",
         "id": 28,
         "last_name": "Buckheit",
         "middle_name": "",
         "state": "VA",
         "street_1": "8904 KAREN DR",
         "street_2": "",
         "zip": "220312731"
        },
        {
         "_deepnote_index_column": 3,
         "amount": 2300,
         "candidate_id": 20,
         "city": "Park City",
         "date": "2007-08-14",
         "first_name": "Linda",
         "id": 29,
         "last_name": "Buckel",
         "middle_name": "",
         "state": "UT",
         "street_1": "PO Box 683130",
         "street_2": "",
         "zip": "840683130"
        },
        {
         "_deepnote_index_column": 4,
         "amount": -2300,
         "candidate_id": 20,
         "city": "Park City",
         "date": "2007-08-14",
         "first_name": "Linda",
         "id": 30,
         "last_name": "Buckel",
         "middle_name": "",
         "state": "UT",
         "street_1": "PO Box 683130",
         "street_2": "",
         "zip": "840683130"
        },
        {
         "_deepnote_index_column": 5,
         "amount": 4600,
         "candidate_id": 20,
         "city": "Park City",
         "date": "2007-08-14",
         "first_name": "Linda",
         "id": 31,
         "last_name": "Buckel",
         "middle_name": "",
         "state": "UT",
         "street_1": "PO Box 683130",
         "street_2": "",
         "zip": "840683130"
        },
        {
         "_deepnote_index_column": 6,
         "amount": 100,
         "candidate_id": 20,
         "city": "Kansas City",
         "date": "2007-09-25",
         "first_name": "Thomas",
         "id": 32,
         "last_name": "Buck",
         "middle_name": "",
         "state": "MO",
         "street_1": "4206 Terrace Street",
         "street_2": "",
         "zip": "64111"
        },
        {
         "_deepnote_index_column": 7,
         "amount": 200,
         "candidate_id": 20,
         "city": "Northfield",
         "date": "2007-09-12",
         "first_name": "Jay",
         "id": 33,
         "last_name": "Buck",
         "middle_name": "K.",
         "state": "IL",
         "street_1": "1855 Old Willow Rd Unit 322",
         "street_2": "",
         "zip": "600932918"
        },
        {
         "_deepnote_index_column": 8,
         "amount": 2300,
         "candidate_id": 20,
         "city": "Camden",
         "date": "2007-09-30",
         "first_name": "Blaine",
         "id": 34,
         "last_name": "Buck",
         "middle_name": "M",
         "state": "ME",
         "street_1": "45 Eaton Ave",
         "street_2": "",
         "zip": "48431752"
        },
        {
         "_deepnote_index_column": 9,
         "amount": 50,
         "candidate_id": 20,
         "city": "North Miami",
         "date": "2007-09-13",
         "first_name": "Barbara",
         "id": 35,
         "last_name": "Buck",
         "middle_name": "",
         "state": "FL",
         "street_1": "1780 NE 138th St",
         "street_2": "",
         "zip": "331811316"
        },
        {
         "_deepnote_index_column": 10,
         "amount": 50,
         "candidate_id": 20,
         "city": "North Miami",
         "date": "2007-07-19",
         "first_name": "Barbara",
         "id": 36,
         "last_name": "Buck",
         "middle_name": "",
         "state": "FL",
         "street_1": "1780 NE 138th St",
         "street_2": "",
         "zip": "331811316"
        },
        {
         "_deepnote_index_column": 11,
         "amount": 460.8,
         "candidate_id": 20,
         "city": "San Luis Obispo",
         "date": "2007-07-18",
         "first_name": "Mark M",
         "id": 37,
         "last_name": "Buchman",
         "middle_name": "",
         "state": "CA",
         "street_1": "2530 Lawton Ave",
         "street_2": "",
         "zip": "934015622"
        },
        {
         "_deepnote_index_column": 12,
         "amount": 100,
         "candidate_id": 20,
         "city": "Los Angeles",
         "date": "2007-07-10",
         "first_name": "Ida",
         "id": 38,
         "last_name": "Bucher",
         "middle_name": "M",
         "state": "CA",
         "street_1": "1400 Warnall Ave",
         "street_2": "",
         "zip": "900245333"
        },
        {
         "_deepnote_index_column": 13,
         "amount": 50,
         "candidate_id": 20,
         "city": "Bethesda",
         "date": "2007-09-30",
         "first_name": "Elizabeth",
         "id": 39,
         "last_name": "Buchanek",
         "middle_name": "",
         "state": "MD",
         "street_1": "7917 Kentbury Dr",
         "street_2": "",
         "zip": "208144615"
        },
        {
         "_deepnote_index_column": 14,
         "amount": 500,
         "candidate_id": 20,
         "city": "Boca Raton",
         "date": "2007-09-24",
         "first_name": "John",
         "id": 40,
         "last_name": "Buchanan",
         "middle_name": "",
         "state": "FL",
         "street_1": "2025 NW 29th Rd",
         "street_2": "",
         "zip": "334316303"
        },
        {
         "_deepnote_index_column": 15,
         "amount": -500,
         "candidate_id": 20,
         "city": "Boca Raton",
         "date": "2007-09-24",
         "first_name": "John",
         "id": 41,
         "last_name": "Buchanan",
         "middle_name": "",
         "state": "FL",
         "street_1": "2025 NW 29th Rd",
         "street_2": "",
         "zip": "334316303"
        },
        {
         "_deepnote_index_column": 16,
         "amount": 500,
         "candidate_id": 20,
         "city": "Boca Raton",
         "date": "2007-09-24",
         "first_name": "John",
         "id": 42,
         "last_name": "Buchanan",
         "middle_name": "",
         "state": "FL",
         "street_1": "2025 NW 29th Rd",
         "street_2": "",
         "zip": "334316303"
        },
        {
         "_deepnote_index_column": 17,
         "amount": 700,
         "candidate_id": 20,
         "city": "Boca Raton",
         "date": "2007-08-28",
         "first_name": "John",
         "id": 43,
         "last_name": "Buchanan",
         "middle_name": "",
         "state": "FL",
         "street_1": "2025 NW 29th Rd",
         "street_2": "",
         "zip": "334316303"
        },
        {
         "_deepnote_index_column": 18,
         "amount": -700,
         "candidate_id": 20,
         "city": "Boca Raton",
         "date": "2007-08-28",
         "first_name": "John",
         "id": 44,
         "last_name": "Buchanan",
         "middle_name": "",
         "state": "FL",
         "street_1": "2025 NW 29th Rd",
         "street_2": "",
         "zip": "334316303"
        },
        {
         "_deepnote_index_column": 19,
         "amount": 1000,
         "candidate_id": 20,
         "city": "Boca Raton",
         "date": "2007-08-28",
         "first_name": "John",
         "id": 45,
         "last_name": "Buchanan",
         "middle_name": "",
         "state": "FL",
         "street_1": "2025 NW 29th Rd",
         "street_2": "",
         "zip": "334316303"
        },
        {
         "_deepnote_index_column": 20,
         "amount": 1300,
         "candidate_id": 20,
         "city": "Boca Raton",
         "date": "2007-08-09",
         "first_name": "John",
         "id": 46,
         "last_name": "Buchanan",
         "middle_name": "",
         "state": "FL",
         "street_1": "2025 NW 29th Rd",
         "street_2": "",
         "zip": "334316303"
        },
        {
         "_deepnote_index_column": 21,
         "amount": 200,
         "candidate_id": 20,
         "city": "Boca Raton",
         "date": "2007-08-14",
         "first_name": "John",
         "id": 47,
         "last_name": "Buchanan",
         "middle_name": "",
         "state": "FL",
         "street_1": "2025 NW 29th Rd",
         "street_2": "",
         "zip": "334316303"
        },
        {
         "_deepnote_index_column": 22,
         "amount": 500,
         "candidate_id": 20,
         "city": "Boca Raton",
         "date": "2007-07-25",
         "first_name": "John",
         "id": 48,
         "last_name": "Buchanan",
         "middle_name": "",
         "state": "FL",
         "street_1": "2025 NW 29th Rd",
         "street_2": "",
         "zip": "334316303"
        },
        {
         "_deepnote_index_column": 23,
         "amount": 200.09,
         "candidate_id": 20,
         "city": "Washington",
         "date": "2007-09-23",
         "first_name": "John",
         "id": 49,
         "last_name": "Buchanan",
         "middle_name": "",
         "state": "DC",
         "street_1": "4635 49th St NW",
         "street_2": "",
         "zip": "200164320"
        },
        {
         "_deepnote_index_column": 24,
         "amount": 25,
         "candidate_id": 20,
         "city": "La Verne",
         "date": "2007-07-26",
         "first_name": "Ryan",
         "id": 50,
         "last_name": "Harrison",
         "middle_name": "",
         "state": "CA",
         "street_1": "2247 3rd St",
         "street_2": "",
         "zip": "917504918"
        }
       ]
      },
      "text/html": [
       "<div>\n",
       "<style scoped>\n",
       "    .dataframe tbody tr th:only-of-type {\n",
       "        vertical-align: middle;\n",
       "    }\n",
       "\n",
       "    .dataframe tbody tr th {\n",
       "        vertical-align: top;\n",
       "    }\n",
       "\n",
       "    .dataframe thead th {\n",
       "        text-align: right;\n",
       "    }\n",
       "</style>\n",
       "<table border=\"1\" class=\"dataframe\">\n",
       "  <thead>\n",
       "    <tr style=\"text-align: right;\">\n",
       "      <th></th>\n",
       "      <th>id</th>\n",
       "      <th>last_name</th>\n",
       "      <th>first_name</th>\n",
       "      <th>middle_name</th>\n",
       "      <th>street_1</th>\n",
       "      <th>street_2</th>\n",
       "      <th>city</th>\n",
       "      <th>state</th>\n",
       "      <th>zip</th>\n",
       "      <th>amount</th>\n",
       "      <th>date</th>\n",
       "      <th>candidate_id</th>\n",
       "    </tr>\n",
       "  </thead>\n",
       "  <tbody>\n",
       "    <tr>\n",
       "      <th>0</th>\n",
       "      <td>26</td>\n",
       "      <td>Buckler</td>\n",
       "      <td>Steve</td>\n",
       "      <td></td>\n",
       "      <td>24351 Armada Dr</td>\n",
       "      <td></td>\n",
       "      <td>Dana Point</td>\n",
       "      <td>CA</td>\n",
       "      <td>926291306</td>\n",
       "      <td>50.00</td>\n",
       "      <td>2007-07-30</td>\n",
       "      <td>20</td>\n",
       "    </tr>\n",
       "    <tr>\n",
       "      <th>1</th>\n",
       "      <td>27</td>\n",
       "      <td>Buckler</td>\n",
       "      <td>Steve</td>\n",
       "      <td></td>\n",
       "      <td>24351 Armada Dr</td>\n",
       "      <td></td>\n",
       "      <td>Dana Point</td>\n",
       "      <td>CA</td>\n",
       "      <td>926291306</td>\n",
       "      <td>25.00</td>\n",
       "      <td>2007-08-16</td>\n",
       "      <td>20</td>\n",
       "    </tr>\n",
       "    <tr>\n",
       "      <th>2</th>\n",
       "      <td>28</td>\n",
       "      <td>Buckheit</td>\n",
       "      <td>Bruce</td>\n",
       "      <td></td>\n",
       "      <td>8904 KAREN DR</td>\n",
       "      <td></td>\n",
       "      <td>FAIRFAX</td>\n",
       "      <td>VA</td>\n",
       "      <td>220312731</td>\n",
       "      <td>100.00</td>\n",
       "      <td>2007-09-19</td>\n",
       "      <td>20</td>\n",
       "    </tr>\n",
       "    <tr>\n",
       "      <th>3</th>\n",
       "      <td>29</td>\n",
       "      <td>Buckel</td>\n",
       "      <td>Linda</td>\n",
       "      <td></td>\n",
       "      <td>PO Box 683130</td>\n",
       "      <td></td>\n",
       "      <td>Park City</td>\n",
       "      <td>UT</td>\n",
       "      <td>840683130</td>\n",
       "      <td>2300.00</td>\n",
       "      <td>2007-08-14</td>\n",
       "      <td>20</td>\n",
       "    </tr>\n",
       "    <tr>\n",
       "      <th>4</th>\n",
       "      <td>30</td>\n",
       "      <td>Buckel</td>\n",
       "      <td>Linda</td>\n",
       "      <td></td>\n",
       "      <td>PO Box 683130</td>\n",
       "      <td></td>\n",
       "      <td>Park City</td>\n",
       "      <td>UT</td>\n",
       "      <td>840683130</td>\n",
       "      <td>-2300.00</td>\n",
       "      <td>2007-08-14</td>\n",
       "      <td>20</td>\n",
       "    </tr>\n",
       "    <tr>\n",
       "      <th>5</th>\n",
       "      <td>31</td>\n",
       "      <td>Buckel</td>\n",
       "      <td>Linda</td>\n",
       "      <td></td>\n",
       "      <td>PO Box 683130</td>\n",
       "      <td></td>\n",
       "      <td>Park City</td>\n",
       "      <td>UT</td>\n",
       "      <td>840683130</td>\n",
       "      <td>4600.00</td>\n",
       "      <td>2007-08-14</td>\n",
       "      <td>20</td>\n",
       "    </tr>\n",
       "    <tr>\n",
       "      <th>6</th>\n",
       "      <td>32</td>\n",
       "      <td>Buck</td>\n",
       "      <td>Thomas</td>\n",
       "      <td></td>\n",
       "      <td>4206 Terrace Street</td>\n",
       "      <td></td>\n",
       "      <td>Kansas City</td>\n",
       "      <td>MO</td>\n",
       "      <td>64111</td>\n",
       "      <td>100.00</td>\n",
       "      <td>2007-09-25</td>\n",
       "      <td>20</td>\n",
       "    </tr>\n",
       "    <tr>\n",
       "      <th>7</th>\n",
       "      <td>33</td>\n",
       "      <td>Buck</td>\n",
       "      <td>Jay</td>\n",
       "      <td>K.</td>\n",
       "      <td>1855 Old Willow Rd Unit 322</td>\n",
       "      <td></td>\n",
       "      <td>Northfield</td>\n",
       "      <td>IL</td>\n",
       "      <td>600932918</td>\n",
       "      <td>200.00</td>\n",
       "      <td>2007-09-12</td>\n",
       "      <td>20</td>\n",
       "    </tr>\n",
       "    <tr>\n",
       "      <th>8</th>\n",
       "      <td>34</td>\n",
       "      <td>Buck</td>\n",
       "      <td>Blaine</td>\n",
       "      <td>M</td>\n",
       "      <td>45 Eaton Ave</td>\n",
       "      <td></td>\n",
       "      <td>Camden</td>\n",
       "      <td>ME</td>\n",
       "      <td>48431752</td>\n",
       "      <td>2300.00</td>\n",
       "      <td>2007-09-30</td>\n",
       "      <td>20</td>\n",
       "    </tr>\n",
       "    <tr>\n",
       "      <th>9</th>\n",
       "      <td>35</td>\n",
       "      <td>Buck</td>\n",
       "      <td>Barbara</td>\n",
       "      <td></td>\n",
       "      <td>1780 NE 138th St</td>\n",
       "      <td></td>\n",
       "      <td>North Miami</td>\n",
       "      <td>FL</td>\n",
       "      <td>331811316</td>\n",
       "      <td>50.00</td>\n",
       "      <td>2007-09-13</td>\n",
       "      <td>20</td>\n",
       "    </tr>\n",
       "    <tr>\n",
       "      <th>10</th>\n",
       "      <td>36</td>\n",
       "      <td>Buck</td>\n",
       "      <td>Barbara</td>\n",
       "      <td></td>\n",
       "      <td>1780 NE 138th St</td>\n",
       "      <td></td>\n",
       "      <td>North Miami</td>\n",
       "      <td>FL</td>\n",
       "      <td>331811316</td>\n",
       "      <td>50.00</td>\n",
       "      <td>2007-07-19</td>\n",
       "      <td>20</td>\n",
       "    </tr>\n",
       "    <tr>\n",
       "      <th>11</th>\n",
       "      <td>37</td>\n",
       "      <td>Buchman</td>\n",
       "      <td>Mark M</td>\n",
       "      <td></td>\n",
       "      <td>2530 Lawton Ave</td>\n",
       "      <td></td>\n",
       "      <td>San Luis Obispo</td>\n",
       "      <td>CA</td>\n",
       "      <td>934015622</td>\n",
       "      <td>460.80</td>\n",
       "      <td>2007-07-18</td>\n",
       "      <td>20</td>\n",
       "    </tr>\n",
       "    <tr>\n",
       "      <th>12</th>\n",
       "      <td>38</td>\n",
       "      <td>Bucher</td>\n",
       "      <td>Ida</td>\n",
       "      <td>M</td>\n",
       "      <td>1400 Warnall Ave</td>\n",
       "      <td></td>\n",
       "      <td>Los Angeles</td>\n",
       "      <td>CA</td>\n",
       "      <td>900245333</td>\n",
       "      <td>100.00</td>\n",
       "      <td>2007-07-10</td>\n",
       "      <td>20</td>\n",
       "    </tr>\n",
       "    <tr>\n",
       "      <th>13</th>\n",
       "      <td>39</td>\n",
       "      <td>Buchanek</td>\n",
       "      <td>Elizabeth</td>\n",
       "      <td></td>\n",
       "      <td>7917 Kentbury Dr</td>\n",
       "      <td></td>\n",
       "      <td>Bethesda</td>\n",
       "      <td>MD</td>\n",
       "      <td>208144615</td>\n",
       "      <td>50.00</td>\n",
       "      <td>2007-09-30</td>\n",
       "      <td>20</td>\n",
       "    </tr>\n",
       "    <tr>\n",
       "      <th>14</th>\n",
       "      <td>40</td>\n",
       "      <td>Buchanan</td>\n",
       "      <td>John</td>\n",
       "      <td></td>\n",
       "      <td>2025 NW 29th Rd</td>\n",
       "      <td></td>\n",
       "      <td>Boca Raton</td>\n",
       "      <td>FL</td>\n",
       "      <td>334316303</td>\n",
       "      <td>500.00</td>\n",
       "      <td>2007-09-24</td>\n",
       "      <td>20</td>\n",
       "    </tr>\n",
       "    <tr>\n",
       "      <th>15</th>\n",
       "      <td>41</td>\n",
       "      <td>Buchanan</td>\n",
       "      <td>John</td>\n",
       "      <td></td>\n",
       "      <td>2025 NW 29th Rd</td>\n",
       "      <td></td>\n",
       "      <td>Boca Raton</td>\n",
       "      <td>FL</td>\n",
       "      <td>334316303</td>\n",
       "      <td>-500.00</td>\n",
       "      <td>2007-09-24</td>\n",
       "      <td>20</td>\n",
       "    </tr>\n",
       "    <tr>\n",
       "      <th>16</th>\n",
       "      <td>42</td>\n",
       "      <td>Buchanan</td>\n",
       "      <td>John</td>\n",
       "      <td></td>\n",
       "      <td>2025 NW 29th Rd</td>\n",
       "      <td></td>\n",
       "      <td>Boca Raton</td>\n",
       "      <td>FL</td>\n",
       "      <td>334316303</td>\n",
       "      <td>500.00</td>\n",
       "      <td>2007-09-24</td>\n",
       "      <td>20</td>\n",
       "    </tr>\n",
       "    <tr>\n",
       "      <th>17</th>\n",
       "      <td>43</td>\n",
       "      <td>Buchanan</td>\n",
       "      <td>John</td>\n",
       "      <td></td>\n",
       "      <td>2025 NW 29th Rd</td>\n",
       "      <td></td>\n",
       "      <td>Boca Raton</td>\n",
       "      <td>FL</td>\n",
       "      <td>334316303</td>\n",
       "      <td>700.00</td>\n",
       "      <td>2007-08-28</td>\n",
       "      <td>20</td>\n",
       "    </tr>\n",
       "    <tr>\n",
       "      <th>18</th>\n",
       "      <td>44</td>\n",
       "      <td>Buchanan</td>\n",
       "      <td>John</td>\n",
       "      <td></td>\n",
       "      <td>2025 NW 29th Rd</td>\n",
       "      <td></td>\n",
       "      <td>Boca Raton</td>\n",
       "      <td>FL</td>\n",
       "      <td>334316303</td>\n",
       "      <td>-700.00</td>\n",
       "      <td>2007-08-28</td>\n",
       "      <td>20</td>\n",
       "    </tr>\n",
       "    <tr>\n",
       "      <th>19</th>\n",
       "      <td>45</td>\n",
       "      <td>Buchanan</td>\n",
       "      <td>John</td>\n",
       "      <td></td>\n",
       "      <td>2025 NW 29th Rd</td>\n",
       "      <td></td>\n",
       "      <td>Boca Raton</td>\n",
       "      <td>FL</td>\n",
       "      <td>334316303</td>\n",
       "      <td>1000.00</td>\n",
       "      <td>2007-08-28</td>\n",
       "      <td>20</td>\n",
       "    </tr>\n",
       "    <tr>\n",
       "      <th>20</th>\n",
       "      <td>46</td>\n",
       "      <td>Buchanan</td>\n",
       "      <td>John</td>\n",
       "      <td></td>\n",
       "      <td>2025 NW 29th Rd</td>\n",
       "      <td></td>\n",
       "      <td>Boca Raton</td>\n",
       "      <td>FL</td>\n",
       "      <td>334316303</td>\n",
       "      <td>1300.00</td>\n",
       "      <td>2007-08-09</td>\n",
       "      <td>20</td>\n",
       "    </tr>\n",
       "    <tr>\n",
       "      <th>21</th>\n",
       "      <td>47</td>\n",
       "      <td>Buchanan</td>\n",
       "      <td>John</td>\n",
       "      <td></td>\n",
       "      <td>2025 NW 29th Rd</td>\n",
       "      <td></td>\n",
       "      <td>Boca Raton</td>\n",
       "      <td>FL</td>\n",
       "      <td>334316303</td>\n",
       "      <td>200.00</td>\n",
       "      <td>2007-08-14</td>\n",
       "      <td>20</td>\n",
       "    </tr>\n",
       "    <tr>\n",
       "      <th>22</th>\n",
       "      <td>48</td>\n",
       "      <td>Buchanan</td>\n",
       "      <td>John</td>\n",
       "      <td></td>\n",
       "      <td>2025 NW 29th Rd</td>\n",
       "      <td></td>\n",
       "      <td>Boca Raton</td>\n",
       "      <td>FL</td>\n",
       "      <td>334316303</td>\n",
       "      <td>500.00</td>\n",
       "      <td>2007-07-25</td>\n",
       "      <td>20</td>\n",
       "    </tr>\n",
       "    <tr>\n",
       "      <th>23</th>\n",
       "      <td>49</td>\n",
       "      <td>Buchanan</td>\n",
       "      <td>John</td>\n",
       "      <td></td>\n",
       "      <td>4635 49th St NW</td>\n",
       "      <td></td>\n",
       "      <td>Washington</td>\n",
       "      <td>DC</td>\n",
       "      <td>200164320</td>\n",
       "      <td>200.09</td>\n",
       "      <td>2007-09-23</td>\n",
       "      <td>20</td>\n",
       "    </tr>\n",
       "    <tr>\n",
       "      <th>24</th>\n",
       "      <td>50</td>\n",
       "      <td>Harrison</td>\n",
       "      <td>Ryan</td>\n",
       "      <td></td>\n",
       "      <td>2247 3rd St</td>\n",
       "      <td></td>\n",
       "      <td>La Verne</td>\n",
       "      <td>CA</td>\n",
       "      <td>917504918</td>\n",
       "      <td>25.00</td>\n",
       "      <td>2007-07-26</td>\n",
       "      <td>20</td>\n",
       "    </tr>\n",
       "  </tbody>\n",
       "</table>\n",
       "</div>"
      ],
      "text/plain": [
       "    id last_name first_name middle_name                     street_1 street_2             city state        zip   amount        date  candidate_id\n",
       "0   26   Buckler      Steve                          24351 Armada Dr                Dana Point    CA  926291306    50.00  2007-07-30            20\n",
       "1   27   Buckler      Steve                          24351 Armada Dr                Dana Point    CA  926291306    25.00  2007-08-16            20\n",
       "2   28  Buckheit      Bruce                            8904 KAREN DR                   FAIRFAX    VA  220312731   100.00  2007-09-19            20\n",
       "3   29    Buckel      Linda                            PO Box 683130                 Park City    UT  840683130  2300.00  2007-08-14            20\n",
       "4   30    Buckel      Linda                            PO Box 683130                 Park City    UT  840683130 -2300.00  2007-08-14            20\n",
       "5   31    Buckel      Linda                            PO Box 683130                 Park City    UT  840683130  4600.00  2007-08-14            20\n",
       "6   32      Buck     Thomas                      4206 Terrace Street               Kansas City    MO      64111   100.00  2007-09-25            20\n",
       "7   33      Buck        Jay          K.  1855 Old Willow Rd Unit 322                Northfield    IL  600932918   200.00  2007-09-12            20\n",
       "8   34      Buck     Blaine           M                 45 Eaton Ave                    Camden    ME   48431752  2300.00  2007-09-30            20\n",
       "9   35      Buck    Barbara                         1780 NE 138th St               North Miami    FL  331811316    50.00  2007-09-13            20\n",
       "10  36      Buck    Barbara                         1780 NE 138th St               North Miami    FL  331811316    50.00  2007-07-19            20\n",
       "11  37   Buchman     Mark M                          2530 Lawton Ave           San Luis Obispo    CA  934015622   460.80  2007-07-18            20\n",
       "12  38    Bucher        Ida           M             1400 Warnall Ave               Los Angeles    CA  900245333   100.00  2007-07-10            20\n",
       "13  39  Buchanek  Elizabeth                         7917 Kentbury Dr                  Bethesda    MD  208144615    50.00  2007-09-30            20\n",
       "14  40  Buchanan       John                          2025 NW 29th Rd                Boca Raton    FL  334316303   500.00  2007-09-24            20\n",
       "15  41  Buchanan       John                          2025 NW 29th Rd                Boca Raton    FL  334316303  -500.00  2007-09-24            20\n",
       "16  42  Buchanan       John                          2025 NW 29th Rd                Boca Raton    FL  334316303   500.00  2007-09-24            20\n",
       "17  43  Buchanan       John                          2025 NW 29th Rd                Boca Raton    FL  334316303   700.00  2007-08-28            20\n",
       "18  44  Buchanan       John                          2025 NW 29th Rd                Boca Raton    FL  334316303  -700.00  2007-08-28            20\n",
       "19  45  Buchanan       John                          2025 NW 29th Rd                Boca Raton    FL  334316303  1000.00  2007-08-28            20\n",
       "20  46  Buchanan       John                          2025 NW 29th Rd                Boca Raton    FL  334316303  1300.00  2007-08-09            20\n",
       "21  47  Buchanan       John                          2025 NW 29th Rd                Boca Raton    FL  334316303   200.00  2007-08-14            20\n",
       "22  48  Buchanan       John                          2025 NW 29th Rd                Boca Raton    FL  334316303   500.00  2007-07-25            20\n",
       "23  49  Buchanan       John                          4635 49th St NW                Washington    DC  200164320   200.09  2007-09-23            20\n",
       "24  50  Harrison       Ryan                              2247 3rd St                  La Verne    CA  917504918    25.00  2007-07-26            20"
      ]
     },
     "metadata": {},
     "output_type": "display_data"
    }
   ],
   "source": [
    "query = '''SELECT * FROM contributors WHERE candidate_id = (SELECT id from candidates WHERE last_name = \"Obama\")'''\n",
    "display(viz_tables(contributor_cols, query))"
   ]
  },
  {
   "cell_type": "markdown",
   "metadata": {
    "cell_id": "00005-08f1182a-7567-4b02-b7ce-c963cfc310c7",
    "deepnote_cell_type": "markdown"
   },
   "source": [
    "# Joins\n",
    "The last example involved querying data from multiple tables.\n",
    "\n",
    "In particular, we combined columns from the two related tables (related through the `FOREIGN KEY`).\n",
    "\n",
    "This leads to the idea of *joining* multiple tables together.  `SQL` has a set of commands to handle different types of joins.  `SQLite` does not support the full suite of join commands offered by `SQL` but you should still be able to get the main ideas from the limited command set.\n",
    "\n",
    "We'll begin with the `INNER JOIN`."
   ]
  },
  {
   "cell_type": "markdown",
   "metadata": {
    "cell_id": "00006-f7438f96-220c-4c48-915f-511f0a05c0ff",
    "deepnote_cell_type": "markdown"
   },
   "source": [
    "## INNER JOIN\n",
    "The idea here is that you will combine the tables if the values of certain columns are the same between the two tables.  In our example, we will join the two tables based on the candidate id.  The result of the `INNER JOIN` will be a new table consisting of the columns we requested and containing the common data.  Since we are joining based off of the candidate id, we will not be excluding any rows.\n",
    "\n",
    "### Example\n",
    "\n",
    "Here are two tables.  Table A has the form:\n",
    "\n",
    "| nA   | attr  | idA |\n",
    "| :::: | ::::: | ::: |\n",
    "| s1   | 23    | 0   |\n",
    "| s2   | 7     | 2   |\n",
    "\n",
    "and table B has the form:\n",
    "\n",
    "| nB   | attr  | idB |\n",
    "| :::: | ::::: | ::: |\n",
    "| t1   | 60    | 0   |\n",
    "| t2   | 14    | 7   |\n",
    "| t3   | 22    | 2   |\n",
    "\n",
    "Table A is associated with Table B through a foreign key on the id column.\n",
    "\n",
    "If we join the two tables by comparing the id columns and selecting the nA, nB, and attr columns then we'll get \n",
    "\n",
    "| nA   | A.attr  | nB  | B.attr |\n",
    "| :::: | ::::::: | ::: | :::::: |\n",
    "| s1   | 23      | t1  | 60     |\n",
    "| s2   | 7       | t3  | 22     |\n",
    "\n",
    "\n",
    "The `SQLite` code to do this join would be \n",
    "\n",
    "```SQL\n",
    "SELECT nA, A.attr, nB, B.attr FROM A INNER JOIN B ON B.idB = A.idA\n",
    "```\n",
    "\n",
    "Notice that the second row in table B is gone because the id values are not the same.\n",
    "\n",
    "### Thoughts\n",
    "What is `SQL` doing with this operation?  It may help to visualize this with a Venn diagram.  Table A has rows with values corresponding to the `idA` attribute.  Column B has rows with values corresponding to the `idB` attribute.  The `INNER JOIN` will combine the two tables such that rows with common entries in the `id` attributes are included.  We essentially have the following Venn diagram.\n",
    "\n",
    "![](../fig/inner_join.png)"
   ]
  },
  {
   "cell_type": "markdown",
   "metadata": {
    "cell_id": "00007-619acfb2-d3d7-4bd9-b74c-f3e73ea0bdb8",
    "deepnote_cell_type": "markdown"
   },
   "source": [
    "## Exercises\n",
    "1. Using an `INNER JOIN`, join the candidates and contributors tables by comparing the `candidate_id` and `candidates_id` columns.  Display your joined table with the columns `contributors.last_name`, `contributors.first_name`, and `candidates.last_name`.\n",
    "2. Do the same inner join as in the last part, but this time append a `WHERE` clause to select a specific candidate's last name."
   ]
  },
  {
   "cell_type": "code",
   "execution_count": 14,
   "metadata": {
    "cell_id": "00008-4ff1413a-77e0-4561-8208-26bb678aa511",
    "deepnote_cell_type": "code",
    "execution_millis": 26,
    "execution_start": 1605809032229,
    "output_cleared": false,
    "source_hash": "cf01f3a7",
    "tags": []
   },
   "outputs": [
    {
     "data": {
      "application/vnd.deepnote.dataframe.v2+json": {
       "column_count": 3,
       "columns": [
        {
         "dtype": "object",
         "name": "contibutors.last_name",
         "stats": {
          "categories": [
           {
            "count": 16,
            "name": "Aaron"
           },
           {
            "count": 10,
            "name": "Buchanan"
           },
           {
            "count": 149,
            "name": "94 others"
           }
          ],
          "nan_count": 0,
          "unique_count": 96
         }
        },
        {
         "dtype": "object",
         "name": "contributors.first_name",
         "stats": {
          "categories": [
           {
            "count": 12,
            "name": "John"
           },
           {
            "count": 7,
            "name": "Shirley"
           },
           {
            "count": 156,
            "name": "103 others"
           }
          ],
          "nan_count": 0,
          "unique_count": 105
         }
        },
        {
         "dtype": "object",
         "name": "candidates.last_name",
         "stats": {
          "categories": [
           {
            "count": 25,
            "name": "Huckabee"
           },
           {
            "count": 25,
            "name": "Obama"
           },
           {
            "count": 125,
            "name": "5 others"
           }
          ],
          "nan_count": 0,
          "unique_count": 7
         }
        },
        {
         "dtype": "int64",
         "name": "_deepnote_index_column"
        }
       ],
       "row_count": 175,
       "rows_bottom": null,
       "rows_top": [
        {
         "_deepnote_index_column": 0,
         "candidates.last_name": "Huckabee",
         "contibutors.last_name": "Agee",
         "contributors.first_name": "Steven"
        },
        {
         "_deepnote_index_column": 1,
         "candidates.last_name": "Huckabee",
         "contibutors.last_name": "Ahrens",
         "contributors.first_name": "Don"
        },
        {
         "_deepnote_index_column": 2,
         "candidates.last_name": "Huckabee",
         "contibutors.last_name": "Ahrens",
         "contributors.first_name": "Don"
        },
        {
         "_deepnote_index_column": 3,
         "candidates.last_name": "Huckabee",
         "contibutors.last_name": "Ahrens",
         "contributors.first_name": "Don"
        },
        {
         "_deepnote_index_column": 4,
         "candidates.last_name": "Huckabee",
         "contibutors.last_name": "Akin",
         "contributors.first_name": "Charles"
        },
        {
         "_deepnote_index_column": 5,
         "candidates.last_name": "Huckabee",
         "contibutors.last_name": "Akin",
         "contributors.first_name": "Mike"
        },
        {
         "_deepnote_index_column": 6,
         "candidates.last_name": "Huckabee",
         "contibutors.last_name": "Akin",
         "contributors.first_name": "Rebecca"
        },
        {
         "_deepnote_index_column": 7,
         "candidates.last_name": "Huckabee",
         "contibutors.last_name": "Aldridge",
         "contributors.first_name": "Brittni"
        },
        {
         "_deepnote_index_column": 8,
         "candidates.last_name": "Huckabee",
         "contibutors.last_name": "Allen",
         "contributors.first_name": "John D."
        },
        {
         "_deepnote_index_column": 9,
         "candidates.last_name": "Huckabee",
         "contibutors.last_name": "Allen",
         "contributors.first_name": "John D."
        },
        {
         "_deepnote_index_column": 10,
         "candidates.last_name": "Huckabee",
         "contibutors.last_name": "Allison",
         "contributors.first_name": "John W."
        },
        {
         "_deepnote_index_column": 11,
         "candidates.last_name": "Huckabee",
         "contibutors.last_name": "Allison",
         "contributors.first_name": "Rebecca"
        },
        {
         "_deepnote_index_column": 12,
         "candidates.last_name": "Huckabee",
         "contibutors.last_name": "Allison",
         "contributors.first_name": "Rebecca"
        },
        {
         "_deepnote_index_column": 13,
         "candidates.last_name": "Huckabee",
         "contibutors.last_name": "Altes",
         "contributors.first_name": "R.D."
        },
        {
         "_deepnote_index_column": 14,
         "candidates.last_name": "Huckabee",
         "contibutors.last_name": "Andres",
         "contributors.first_name": "Dale"
        },
        {
         "_deepnote_index_column": 15,
         "candidates.last_name": "Huckabee",
         "contibutors.last_name": "Anthony",
         "contributors.first_name": "John"
        },
        {
         "_deepnote_index_column": 16,
         "candidates.last_name": "Huckabee",
         "contibutors.last_name": "Arbogast",
         "contributors.first_name": "Robert"
        },
        {
         "_deepnote_index_column": 17,
         "candidates.last_name": "Huckabee",
         "contibutors.last_name": "Arbogast",
         "contributors.first_name": "Robert"
        },
        {
         "_deepnote_index_column": 18,
         "candidates.last_name": "Huckabee",
         "contibutors.last_name": "Ardle",
         "contributors.first_name": "William"
        },
        {
         "_deepnote_index_column": 19,
         "candidates.last_name": "Huckabee",
         "contibutors.last_name": "Atiq",
         "contributors.first_name": "Omar"
        },
        {
         "_deepnote_index_column": 20,
         "candidates.last_name": "Huckabee",
         "contibutors.last_name": "Atiq",
         "contributors.first_name": "Omar"
        },
        {
         "_deepnote_index_column": 21,
         "candidates.last_name": "Huckabee",
         "contibutors.last_name": "Baker",
         "contributors.first_name": "David"
        },
        {
         "_deepnote_index_column": 22,
         "candidates.last_name": "Huckabee",
         "contibutors.last_name": "Bancroft",
         "contributors.first_name": "David"
        },
        {
         "_deepnote_index_column": 23,
         "candidates.last_name": "Huckabee",
         "contibutors.last_name": "Banks",
         "contributors.first_name": "Charles"
        },
        {
         "_deepnote_index_column": 24,
         "candidates.last_name": "Huckabee",
         "contibutors.last_name": "Barbee",
         "contributors.first_name": "John"
        },
        {
         "_deepnote_index_column": 25,
         "candidates.last_name": "Obama",
         "contibutors.last_name": "Buckler",
         "contributors.first_name": "Steve"
        },
        {
         "_deepnote_index_column": 26,
         "candidates.last_name": "Obama",
         "contibutors.last_name": "Buckler",
         "contributors.first_name": "Steve"
        },
        {
         "_deepnote_index_column": 27,
         "candidates.last_name": "Obama",
         "contibutors.last_name": "Buckheit",
         "contributors.first_name": "Bruce"
        },
        {
         "_deepnote_index_column": 28,
         "candidates.last_name": "Obama",
         "contibutors.last_name": "Buckel",
         "contributors.first_name": "Linda"
        },
        {
         "_deepnote_index_column": 29,
         "candidates.last_name": "Obama",
         "contibutors.last_name": "Buckel",
         "contributors.first_name": "Linda"
        },
        {
         "_deepnote_index_column": 30,
         "candidates.last_name": "Obama",
         "contibutors.last_name": "Buckel",
         "contributors.first_name": "Linda"
        },
        {
         "_deepnote_index_column": 31,
         "candidates.last_name": "Obama",
         "contibutors.last_name": "Buck",
         "contributors.first_name": "Thomas"
        },
        {
         "_deepnote_index_column": 32,
         "candidates.last_name": "Obama",
         "contibutors.last_name": "Buck",
         "contributors.first_name": "Jay"
        },
        {
         "_deepnote_index_column": 33,
         "candidates.last_name": "Obama",
         "contibutors.last_name": "Buck",
         "contributors.first_name": "Blaine"
        },
        {
         "_deepnote_index_column": 34,
         "candidates.last_name": "Obama",
         "contibutors.last_name": "Buck",
         "contributors.first_name": "Barbara"
        },
        {
         "_deepnote_index_column": 35,
         "candidates.last_name": "Obama",
         "contibutors.last_name": "Buck",
         "contributors.first_name": "Barbara"
        },
        {
         "_deepnote_index_column": 36,
         "candidates.last_name": "Obama",
         "contibutors.last_name": "Buchman",
         "contributors.first_name": "Mark M"
        },
        {
         "_deepnote_index_column": 37,
         "candidates.last_name": "Obama",
         "contibutors.last_name": "Bucher",
         "contributors.first_name": "Ida"
        },
        {
         "_deepnote_index_column": 38,
         "candidates.last_name": "Obama",
         "contibutors.last_name": "Buchanek",
         "contributors.first_name": "Elizabeth"
        },
        {
         "_deepnote_index_column": 39,
         "candidates.last_name": "Obama",
         "contibutors.last_name": "Buchanan",
         "contributors.first_name": "John"
        },
        {
         "_deepnote_index_column": 40,
         "candidates.last_name": "Obama",
         "contibutors.last_name": "Buchanan",
         "contributors.first_name": "John"
        },
        {
         "_deepnote_index_column": 41,
         "candidates.last_name": "Obama",
         "contibutors.last_name": "Buchanan",
         "contributors.first_name": "John"
        },
        {
         "_deepnote_index_column": 42,
         "candidates.last_name": "Obama",
         "contibutors.last_name": "Buchanan",
         "contributors.first_name": "John"
        },
        {
         "_deepnote_index_column": 43,
         "candidates.last_name": "Obama",
         "contibutors.last_name": "Buchanan",
         "contributors.first_name": "John"
        },
        {
         "_deepnote_index_column": 44,
         "candidates.last_name": "Obama",
         "contibutors.last_name": "Buchanan",
         "contributors.first_name": "John"
        },
        {
         "_deepnote_index_column": 45,
         "candidates.last_name": "Obama",
         "contibutors.last_name": "Buchanan",
         "contributors.first_name": "John"
        },
        {
         "_deepnote_index_column": 46,
         "candidates.last_name": "Obama",
         "contibutors.last_name": "Buchanan",
         "contributors.first_name": "John"
        },
        {
         "_deepnote_index_column": 47,
         "candidates.last_name": "Obama",
         "contibutors.last_name": "Buchanan",
         "contributors.first_name": "John"
        },
        {
         "_deepnote_index_column": 48,
         "candidates.last_name": "Obama",
         "contibutors.last_name": "Buchanan",
         "contributors.first_name": "John"
        },
        {
         "_deepnote_index_column": 49,
         "candidates.last_name": "Obama",
         "contibutors.last_name": "Harrison",
         "contributors.first_name": "Ryan"
        },
        {
         "_deepnote_index_column": 50,
         "candidates.last_name": "Giuliani",
         "contibutors.last_name": "BYNUM",
         "contributors.first_name": "HERBERT"
        },
        {
         "_deepnote_index_column": 51,
         "candidates.last_name": "Giuliani",
         "contibutors.last_name": "BYINGTON",
         "contributors.first_name": "MARGARET"
        },
        {
         "_deepnote_index_column": 52,
         "candidates.last_name": "Giuliani",
         "contibutors.last_name": "BYERS",
         "contributors.first_name": "BOB"
        },
        {
         "_deepnote_index_column": 53,
         "candidates.last_name": "Giuliani",
         "contibutors.last_name": "BYERS",
         "contributors.first_name": "AUDREY"
        },
        {
         "_deepnote_index_column": 54,
         "candidates.last_name": "Giuliani",
         "contibutors.last_name": "BUSH",
         "contributors.first_name": "KRYSTIE"
        },
        {
         "_deepnote_index_column": 55,
         "candidates.last_name": "Giuliani",
         "contibutors.last_name": "BUSH",
         "contributors.first_name": "ERIC"
        },
        {
         "_deepnote_index_column": 56,
         "candidates.last_name": "Giuliani",
         "contibutors.last_name": "BURTON",
         "contributors.first_name": "SUSAN"
        },
        {
         "_deepnote_index_column": 57,
         "candidates.last_name": "Giuliani",
         "contibutors.last_name": "BURTON",
         "contributors.first_name": "STEVEN"
        },
        {
         "_deepnote_index_column": 58,
         "candidates.last_name": "Giuliani",
         "contibutors.last_name": "BURTON",
         "contributors.first_name": "GLENN"
        },
        {
         "_deepnote_index_column": 59,
         "candidates.last_name": "Giuliani",
         "contibutors.last_name": "BURKHARDT",
         "contributors.first_name": "CRAIG"
        },
        {
         "_deepnote_index_column": 60,
         "candidates.last_name": "Giuliani",
         "contibutors.last_name": "BURKHARDT",
         "contributors.first_name": "CRAIG"
        },
        {
         "_deepnote_index_column": 61,
         "candidates.last_name": "Giuliani",
         "contibutors.last_name": "BURKHARDT",
         "contributors.first_name": "BARBARA"
        },
        {
         "_deepnote_index_column": 62,
         "candidates.last_name": "Giuliani",
         "contibutors.last_name": "BURKE",
         "contributors.first_name": "SUZANNE"
        },
        {
         "_deepnote_index_column": 63,
         "candidates.last_name": "Giuliani",
         "contibutors.last_name": "BURKE",
         "contributors.first_name": "GAIL"
        },
        {
         "_deepnote_index_column": 64,
         "candidates.last_name": "Giuliani",
         "contibutors.last_name": "BURKE",
         "contributors.first_name": "DONALD"
        },
        {
         "_deepnote_index_column": 65,
         "candidates.last_name": "Giuliani",
         "contibutors.last_name": "BURGERT",
         "contributors.first_name": "RONALD"
        },
        {
         "_deepnote_index_column": 66,
         "candidates.last_name": "Giuliani",
         "contibutors.last_name": "BULL",
         "contributors.first_name": "BARTLE"
        },
        {
         "_deepnote_index_column": 67,
         "candidates.last_name": "Giuliani",
         "contibutors.last_name": "BULL",
         "contributors.first_name": "BARTLE"
        },
        {
         "_deepnote_index_column": 68,
         "candidates.last_name": "Giuliani",
         "contibutors.last_name": "BUKOWSKI",
         "contributors.first_name": "DANIEL"
        },
        {
         "_deepnote_index_column": 69,
         "candidates.last_name": "Giuliani",
         "contibutors.last_name": "BUISSON",
         "contributors.first_name": "MARGARET"
        },
        {
         "_deepnote_index_column": 70,
         "candidates.last_name": "Giuliani",
         "contibutors.last_name": "BUCKLEY",
         "contributors.first_name": "WALTER"
        },
        {
         "_deepnote_index_column": 71,
         "candidates.last_name": "Giuliani",
         "contibutors.last_name": "BUCKLEY",
         "contributors.first_name": "MARJORIE"
        },
        {
         "_deepnote_index_column": 72,
         "candidates.last_name": "Giuliani",
         "contibutors.last_name": "BRUNO",
         "contributors.first_name": "JOHN"
        },
        {
         "_deepnote_index_column": 73,
         "candidates.last_name": "Giuliani",
         "contibutors.last_name": "BRUNO",
         "contributors.first_name": "IRENE"
        },
        {
         "_deepnote_index_column": 74,
         "candidates.last_name": "Giuliani",
         "contibutors.last_name": "BROWN",
         "contributors.first_name": "TIMOTHY"
        },
        {
         "_deepnote_index_column": 75,
         "candidates.last_name": "Paul",
         "contibutors.last_name": "Schuff",
         "contributors.first_name": "Bryan"
        },
        {
         "_deepnote_index_column": 76,
         "candidates.last_name": "Paul",
         "contibutors.last_name": "Hobbs",
         "contributors.first_name": "James"
        },
        {
         "_deepnote_index_column": 77,
         "candidates.last_name": "Paul",
         "contibutors.last_name": "Ranganath",
         "contributors.first_name": "Anoop"
        },
        {
         "_deepnote_index_column": 78,
         "candidates.last_name": "Paul",
         "contibutors.last_name": "Nystrom",
         "contributors.first_name": "Michael"
        },
        {
         "_deepnote_index_column": 79,
         "candidates.last_name": "Paul",
         "contibutors.last_name": "Muse",
         "contributors.first_name": "Nina"
        },
        {
         "_deepnote_index_column": 80,
         "candidates.last_name": "Paul",
         "contibutors.last_name": "Waddell",
         "contributors.first_name": "James"
        },
        {
         "_deepnote_index_column": 81,
         "candidates.last_name": "Paul",
         "contibutors.last_name": "Brucks",
         "contributors.first_name": "William"
        },
        {
         "_deepnote_index_column": 82,
         "candidates.last_name": "Paul",
         "contibutors.last_name": "Kuehn",
         "contributors.first_name": "David"
        },
        {
         "_deepnote_index_column": 83,
         "candidates.last_name": "Paul",
         "contibutors.last_name": "Verster",
         "contributors.first_name": "Jeanette"
        },
        {
         "_deepnote_index_column": 84,
         "candidates.last_name": "Paul",
         "contibutors.last_name": "Uihlein",
         "contributors.first_name": "Richard"
        },
        {
         "_deepnote_index_column": 85,
         "candidates.last_name": "Paul",
         "contibutors.last_name": "Eskenberry",
         "contributors.first_name": "Robert"
        },
        {
         "_deepnote_index_column": 86,
         "candidates.last_name": "Paul",
         "contibutors.last_name": "Froehling",
         "contributors.first_name": "Alan"
        },
        {
         "_deepnote_index_column": 87,
         "candidates.last_name": "Paul",
         "contibutors.last_name": "Duryea",
         "contributors.first_name": "Marcia"
        },
        {
         "_deepnote_index_column": 88,
         "candidates.last_name": "Paul",
         "contibutors.last_name": "Perreault",
         "contributors.first_name": "Louise"
        },
        {
         "_deepnote_index_column": 89,
         "candidates.last_name": "Paul",
         "contibutors.last_name": "Rozenfeld",
         "contributors.first_name": "Timur"
        },
        {
         "_deepnote_index_column": 90,
         "candidates.last_name": "Paul",
         "contibutors.last_name": "Kazor",
         "contributors.first_name": "Christopher"
        },
        {
         "_deepnote_index_column": 91,
         "candidates.last_name": "Paul",
         "contibutors.last_name": "Lehner",
         "contributors.first_name": "Thomas"
        },
        {
         "_deepnote_index_column": 92,
         "candidates.last_name": "Paul",
         "contibutors.last_name": "Plummer",
         "contributors.first_name": "Joseph"
        },
        {
         "_deepnote_index_column": 93,
         "candidates.last_name": "Paul",
         "contibutors.last_name": "Raught",
         "contributors.first_name": "Philip"
        },
        {
         "_deepnote_index_column": 94,
         "candidates.last_name": "Paul",
         "contibutors.last_name": "Ferrara",
         "contributors.first_name": "Judith"
        },
        {
         "_deepnote_index_column": 95,
         "candidates.last_name": "Paul",
         "contibutors.last_name": "Johnson",
         "contributors.first_name": "Cathleen"
        },
        {
         "_deepnote_index_column": 96,
         "candidates.last_name": "Paul",
         "contibutors.last_name": "Sanford",
         "contributors.first_name": "Bradley"
        },
        {
         "_deepnote_index_column": 97,
         "candidates.last_name": "Paul",
         "contibutors.last_name": "Gaarder",
         "contributors.first_name": "Bruce"
        },
        {
         "_deepnote_index_column": 98,
         "candidates.last_name": "Paul",
         "contibutors.last_name": "Choe",
         "contributors.first_name": "Hyeokchan"
        },
        {
         "_deepnote_index_column": 99,
         "candidates.last_name": "Paul",
         "contibutors.last_name": "Jacobs",
         "contributors.first_name": "Richard"
        },
        {
         "_deepnote_index_column": 100,
         "candidates.last_name": "Clinton",
         "contibutors.last_name": "Aaronson",
         "contributors.first_name": "Rebecca"
        },
        {
         "_deepnote_index_column": 101,
         "candidates.last_name": "Clinton",
         "contibutors.last_name": "Aarons",
         "contributors.first_name": "Elaine"
        },
        {
         "_deepnote_index_column": 102,
         "candidates.last_name": "Clinton",
         "contibutors.last_name": "Aarons",
         "contributors.first_name": "Elaine"
        },
        {
         "_deepnote_index_column": 103,
         "candidates.last_name": "Clinton",
         "contibutors.last_name": "Aarons",
         "contributors.first_name": "Elaine"
        },
        {
         "_deepnote_index_column": 104,
         "candidates.last_name": "Clinton",
         "contibutors.last_name": "Aaron",
         "contributors.first_name": "Shirley"
        },
        {
         "_deepnote_index_column": 105,
         "candidates.last_name": "Clinton",
         "contibutors.last_name": "Aaron",
         "contributors.first_name": "Shirley"
        },
        {
         "_deepnote_index_column": 106,
         "candidates.last_name": "Clinton",
         "contibutors.last_name": "Aaronson",
         "contributors.first_name": "Rebecca"
        },
        {
         "_deepnote_index_column": 107,
         "candidates.last_name": "Clinton",
         "contibutors.last_name": "Aaron",
         "contributors.first_name": "Shirley"
        },
        {
         "_deepnote_index_column": 108,
         "candidates.last_name": "Clinton",
         "contibutors.last_name": "Aaron",
         "contributors.first_name": "Shirley"
        },
        {
         "_deepnote_index_column": 109,
         "candidates.last_name": "Clinton",
         "contibutors.last_name": "Aaron",
         "contributors.first_name": "Shirley"
        },
        {
         "_deepnote_index_column": 110,
         "candidates.last_name": "Clinton",
         "contibutors.last_name": "Reid",
         "contributors.first_name": "Elizabeth"
        },
        {
         "_deepnote_index_column": 111,
         "candidates.last_name": "Clinton",
         "contibutors.last_name": "Reich",
         "contributors.first_name": "Thomas"
        },
        {
         "_deepnote_index_column": 112,
         "candidates.last_name": "Clinton",
         "contibutors.last_name": "Aaron",
         "contributors.first_name": "Shirley"
        },
        {
         "_deepnote_index_column": 113,
         "candidates.last_name": "Clinton",
         "contibutors.last_name": "Aaron",
         "contributors.first_name": "Shirley"
        },
        {
         "_deepnote_index_column": 114,
         "candidates.last_name": "Clinton",
         "contibutors.last_name": "Aaron",
         "contributors.first_name": "Sharron"
        },
        {
         "_deepnote_index_column": 115,
         "candidates.last_name": "Clinton",
         "contibutors.last_name": "Aaron",
         "contributors.first_name": "Patricia"
        },
        {
         "_deepnote_index_column": 116,
         "candidates.last_name": "Clinton",
         "contibutors.last_name": "Aaron",
         "contributors.first_name": "Patricia"
        },
        {
         "_deepnote_index_column": 117,
         "candidates.last_name": "Clinton",
         "contibutors.last_name": "Aaron",
         "contributors.first_name": "Jim"
        },
        {
         "_deepnote_index_column": 118,
         "candidates.last_name": "Clinton",
         "contibutors.last_name": "Aaron",
         "contributors.first_name": "Jim"
        },
        {
         "_deepnote_index_column": 119,
         "candidates.last_name": "Clinton",
         "contibutors.last_name": "Aaron",
         "contributors.first_name": "Carole"
        },
        {
         "_deepnote_index_column": 120,
         "candidates.last_name": "Clinton",
         "contibutors.last_name": "Aaron",
         "contributors.first_name": "Carole"
        },
        {
         "_deepnote_index_column": 121,
         "candidates.last_name": "Clinton",
         "contibutors.last_name": "Aaron",
         "contributors.first_name": "Carole"
        },
        {
         "_deepnote_index_column": 122,
         "candidates.last_name": "Clinton",
         "contibutors.last_name": "Aaron",
         "contributors.first_name": "Barbara"
        },
        {
         "_deepnote_index_column": 123,
         "candidates.last_name": "Clinton",
         "contibutors.last_name": "Aanonsen",
         "contributors.first_name": "Lin"
        },
        {
         "_deepnote_index_column": 124,
         "candidates.last_name": "Clinton",
         "contibutors.last_name": "Aanonsen",
         "contributors.first_name": "Lin"
        },
        {
         "_deepnote_index_column": 125,
         "candidates.last_name": "Romney",
         "contibutors.last_name": "BOURNE",
         "contributors.first_name": "TRAVIS"
        },
        {
         "_deepnote_index_column": 126,
         "candidates.last_name": "Romney",
         "contibutors.last_name": "SECRIST",
         "contributors.first_name": "BRIAN"
        },
        {
         "_deepnote_index_column": 127,
         "candidates.last_name": "Romney",
         "contibutors.last_name": "TOLLESTRUP",
         "contributors.first_name": "TRAVIS"
        },
        {
         "_deepnote_index_column": 128,
         "candidates.last_name": "Romney",
         "contibutors.last_name": "ACCORD",
         "contributors.first_name": "DEAN"
        },
        {
         "_deepnote_index_column": 129,
         "candidates.last_name": "Romney",
         "contibutors.last_name": "ABTS",
         "contributors.first_name": "HENRY"
        },
        {
         "_deepnote_index_column": 130,
         "candidates.last_name": "Romney",
         "contibutors.last_name": "ABSHIER",
         "contributors.first_name": "LANNY"
        },
        {
         "_deepnote_index_column": 131,
         "candidates.last_name": "Romney",
         "contibutors.last_name": "ABSHIER",
         "contributors.first_name": "DIANA"
        },
        {
         "_deepnote_index_column": 132,
         "candidates.last_name": "Romney",
         "contibutors.last_name": "ABREU",
         "contributors.first_name": "KEVIN"
        },
        {
         "_deepnote_index_column": 133,
         "candidates.last_name": "Romney",
         "contibutors.last_name": "ABREU",
         "contributors.first_name": "KEVIN"
        },
        {
         "_deepnote_index_column": 134,
         "candidates.last_name": "Romney",
         "contibutors.last_name": "ABREU",
         "contributors.first_name": "KEVIN"
        },
        {
         "_deepnote_index_column": 135,
         "candidates.last_name": "Romney",
         "contibutors.last_name": "ABRAMOWITZ",
         "contributors.first_name": "NIRA"
        },
        {
         "_deepnote_index_column": 136,
         "candidates.last_name": "Romney",
         "contibutors.last_name": "ABRAMS",
         "contributors.first_name": "MICHAEL"
        },
        {
         "_deepnote_index_column": 137,
         "candidates.last_name": "Romney",
         "contibutors.last_name": "ABRAMOWITZ",
         "contributors.first_name": "KEN"
        },
        {
         "_deepnote_index_column": 138,
         "candidates.last_name": "Romney",
         "contibutors.last_name": "ABOUBAKARE",
         "contributors.first_name": "NASAR"
        },
        {
         "_deepnote_index_column": 139,
         "candidates.last_name": "Romney",
         "contibutors.last_name": "ABEGG",
         "contributors.first_name": "PATRICIA"
        },
        {
         "_deepnote_index_column": 140,
         "candidates.last_name": "Romney",
         "contibutors.last_name": "ABEGG",
         "contributors.first_name": "PATRICIA"
        },
        {
         "_deepnote_index_column": 141,
         "candidates.last_name": "Romney",
         "contibutors.last_name": "ABEGG",
         "contributors.first_name": "PATRICIA"
        },
        {
         "_deepnote_index_column": 142,
         "candidates.last_name": "Romney",
         "contibutors.last_name": "ABEGG",
         "contributors.first_name": "PATRICIA"
        },
        {
         "_deepnote_index_column": 143,
         "candidates.last_name": "Romney",
         "contibutors.last_name": "ABEGG",
         "contributors.first_name": "PATRICIA"
        },
        {
         "_deepnote_index_column": 144,
         "candidates.last_name": "Romney",
         "contibutors.last_name": "ABEGG",
         "contributors.first_name": "PATRICIA"
        },
        {
         "_deepnote_index_column": 145,
         "candidates.last_name": "Romney",
         "contibutors.last_name": "ABDELLA",
         "contributors.first_name": "THOMAS"
        },
        {
         "_deepnote_index_column": 146,
         "candidates.last_name": "Romney",
         "contibutors.last_name": "ABBOTT",
         "contributors.first_name": "WELDON"
        },
        {
         "_deepnote_index_column": 147,
         "candidates.last_name": "Romney",
         "contibutors.last_name": "ABBOTT",
         "contributors.first_name": "WELDON"
        },
        {
         "_deepnote_index_column": 148,
         "candidates.last_name": "Romney",
         "contibutors.last_name": "ABBOTT",
         "contributors.first_name": "GERALD"
        },
        {
         "_deepnote_index_column": 149,
         "candidates.last_name": "Romney",
         "contibutors.last_name": "ABBOTT",
         "contributors.first_name": "GERALD"
        },
        {
         "_deepnote_index_column": 150,
         "candidates.last_name": "McCain",
         "contibutors.last_name": "ABEDIN",
         "contributors.first_name": "ZAINUL"
        },
        {
         "_deepnote_index_column": 151,
         "candidates.last_name": "McCain",
         "contibutors.last_name": "ABBOTT",
         "contributors.first_name": "SYBIL"
        },
        {
         "_deepnote_index_column": 152,
         "candidates.last_name": "McCain",
         "contibutors.last_name": "ABBOTT",
         "contributors.first_name": "SYBIL"
        },
        {
         "_deepnote_index_column": 153,
         "candidates.last_name": "McCain",
         "contibutors.last_name": "ABBOTT",
         "contributors.first_name": "RONALD"
        },
        {
         "_deepnote_index_column": 154,
         "candidates.last_name": "McCain",
         "contibutors.last_name": "ABBOTT",
         "contributors.first_name": "RONALD"
        },
        {
         "_deepnote_index_column": 155,
         "candidates.last_name": "McCain",
         "contibutors.last_name": "ABBOTT",
         "contributors.first_name": "ROBERT"
        },
        {
         "_deepnote_index_column": 156,
         "candidates.last_name": "McCain",
         "contibutors.last_name": "ABBOTT",
         "contributors.first_name": "MIKE"
        },
        {
         "_deepnote_index_column": 157,
         "candidates.last_name": "McCain",
         "contibutors.last_name": "ABBOT",
         "contributors.first_name": "DAVID"
        },
        {
         "_deepnote_index_column": 158,
         "candidates.last_name": "McCain",
         "contibutors.last_name": "ABBO",
         "contributors.first_name": "PAULINE"
        },
        {
         "_deepnote_index_column": 159,
         "candidates.last_name": "McCain",
         "contibutors.last_name": "ABATE",
         "contributors.first_name": "MARIA"
        },
        {
         "_deepnote_index_column": 160,
         "candidates.last_name": "McCain",
         "contibutors.last_name": "ABAIR",
         "contributors.first_name": "PETER"
        },
        {
         "_deepnote_index_column": 161,
         "candidates.last_name": "McCain",
         "contibutors.last_name": "ABACHERLI",
         "contributors.first_name": "SHIRLEY"
        },
        {
         "_deepnote_index_column": 162,
         "candidates.last_name": "McCain",
         "contibutors.last_name": "AARONS",
         "contributors.first_name": "CHARLES"
        },
        {
         "_deepnote_index_column": 163,
         "candidates.last_name": "McCain",
         "contibutors.last_name": "AARONS",
         "contributors.first_name": "CHARLES"
        },
        {
         "_deepnote_index_column": 164,
         "candidates.last_name": "McCain",
         "contibutors.last_name": "AARONS",
         "contributors.first_name": "CHARLES"
        },
        {
         "_deepnote_index_column": 165,
         "candidates.last_name": "McCain",
         "contibutors.last_name": "ABEL",
         "contributors.first_name": "JOHN"
        },
        {
         "_deepnote_index_column": 166,
         "candidates.last_name": "McCain",
         "contibutors.last_name": "ABEL",
         "contributors.first_name": "MARLING"
        },
        {
         "_deepnote_index_column": 167,
         "candidates.last_name": "McCain",
         "contibutors.last_name": "ABEL",
         "contributors.first_name": "RUDOLPH"
        },
        {
         "_deepnote_index_column": 168,
         "candidates.last_name": "McCain",
         "contibutors.last_name": "ABELE",
         "contributors.first_name": "RODNEY"
        },
        {
         "_deepnote_index_column": 169,
         "candidates.last_name": "McCain",
         "contibutors.last_name": "ABERCROMBIE",
         "contributors.first_name": "DENIS"
        },
        {
         "_deepnote_index_column": 170,
         "candidates.last_name": "McCain",
         "contibutors.last_name": "ABESHAUS",
         "contributors.first_name": "MERRILL"
        },
        {
         "_deepnote_index_column": 171,
         "candidates.last_name": "McCain",
         "contibutors.last_name": "ABRAHAM",
         "contributors.first_name": "GEORGE"
        },
        {
         "_deepnote_index_column": 172,
         "candidates.last_name": "McCain",
         "contibutors.last_name": "ABRAHAMSON",
         "contributors.first_name": "PETER"
        },
        {
         "_deepnote_index_column": 173,
         "candidates.last_name": "McCain",
         "contibutors.last_name": "ABRAHAM",
         "contributors.first_name": "SALEM"
        },
        {
         "_deepnote_index_column": 174,
         "candidates.last_name": "McCain",
         "contibutors.last_name": "ABRAHAM",
         "contributors.first_name": "SALEM"
        }
       ]
      },
      "text/html": [
       "<div>\n",
       "<style scoped>\n",
       "    .dataframe tbody tr th:only-of-type {\n",
       "        vertical-align: middle;\n",
       "    }\n",
       "\n",
       "    .dataframe tbody tr th {\n",
       "        vertical-align: top;\n",
       "    }\n",
       "\n",
       "    .dataframe thead th {\n",
       "        text-align: right;\n",
       "    }\n",
       "</style>\n",
       "<table border=\"1\" class=\"dataframe\">\n",
       "  <thead>\n",
       "    <tr style=\"text-align: right;\">\n",
       "      <th></th>\n",
       "      <th>contibutors.last_name</th>\n",
       "      <th>contributors.first_name</th>\n",
       "      <th>candidates.last_name</th>\n",
       "    </tr>\n",
       "  </thead>\n",
       "  <tbody>\n",
       "    <tr>\n",
       "      <th>0</th>\n",
       "      <td>Agee</td>\n",
       "      <td>Steven</td>\n",
       "      <td>Huckabee</td>\n",
       "    </tr>\n",
       "    <tr>\n",
       "      <th>1</th>\n",
       "      <td>Ahrens</td>\n",
       "      <td>Don</td>\n",
       "      <td>Huckabee</td>\n",
       "    </tr>\n",
       "    <tr>\n",
       "      <th>2</th>\n",
       "      <td>Ahrens</td>\n",
       "      <td>Don</td>\n",
       "      <td>Huckabee</td>\n",
       "    </tr>\n",
       "    <tr>\n",
       "      <th>3</th>\n",
       "      <td>Ahrens</td>\n",
       "      <td>Don</td>\n",
       "      <td>Huckabee</td>\n",
       "    </tr>\n",
       "    <tr>\n",
       "      <th>4</th>\n",
       "      <td>Akin</td>\n",
       "      <td>Charles</td>\n",
       "      <td>Huckabee</td>\n",
       "    </tr>\n",
       "    <tr>\n",
       "      <th>...</th>\n",
       "      <td>...</td>\n",
       "      <td>...</td>\n",
       "      <td>...</td>\n",
       "    </tr>\n",
       "    <tr>\n",
       "      <th>170</th>\n",
       "      <td>ABESHAUS</td>\n",
       "      <td>MERRILL</td>\n",
       "      <td>McCain</td>\n",
       "    </tr>\n",
       "    <tr>\n",
       "      <th>171</th>\n",
       "      <td>ABRAHAM</td>\n",
       "      <td>GEORGE</td>\n",
       "      <td>McCain</td>\n",
       "    </tr>\n",
       "    <tr>\n",
       "      <th>172</th>\n",
       "      <td>ABRAHAMSON</td>\n",
       "      <td>PETER</td>\n",
       "      <td>McCain</td>\n",
       "    </tr>\n",
       "    <tr>\n",
       "      <th>173</th>\n",
       "      <td>ABRAHAM</td>\n",
       "      <td>SALEM</td>\n",
       "      <td>McCain</td>\n",
       "    </tr>\n",
       "    <tr>\n",
       "      <th>174</th>\n",
       "      <td>ABRAHAM</td>\n",
       "      <td>SALEM</td>\n",
       "      <td>McCain</td>\n",
       "    </tr>\n",
       "  </tbody>\n",
       "</table>\n",
       "<p>175 rows × 3 columns</p>\n",
       "</div>"
      ],
      "text/plain": [
       "    contibutors.last_name contributors.first_name candidates.last_name\n",
       "0                    Agee                  Steven             Huckabee\n",
       "1                  Ahrens                     Don             Huckabee\n",
       "2                  Ahrens                     Don             Huckabee\n",
       "3                  Ahrens                     Don             Huckabee\n",
       "4                    Akin                 Charles             Huckabee\n",
       "..                    ...                     ...                  ...\n",
       "170              ABESHAUS                 MERRILL               McCain\n",
       "171               ABRAHAM                  GEORGE               McCain\n",
       "172            ABRAHAMSON                   PETER               McCain\n",
       "173               ABRAHAM                   SALEM               McCain\n",
       "174               ABRAHAM                   SALEM               McCain\n",
       "\n",
       "[175 rows x 3 columns]"
      ]
     },
     "metadata": {},
     "output_type": "display_data"
    },
    {
     "data": {
      "application/vnd.deepnote.dataframe.v2+json": {
       "column_count": 3,
       "columns": [
        {
         "dtype": "object",
         "name": "contibutors.last_name",
         "stats": {
          "categories": [
           {
            "count": 10,
            "name": "Buchanan"
           },
           {
            "count": 5,
            "name": "Buck"
           },
           {
            "count": 10,
            "name": "7 others"
           }
          ],
          "nan_count": 0,
          "unique_count": 9
         }
        },
        {
         "dtype": "object",
         "name": "contributors.first_name",
         "stats": {
          "categories": [
           {
            "count": 10,
            "name": "John"
           },
           {
            "count": 3,
            "name": "Linda"
           },
           {
            "count": 12,
            "name": "10 others"
           }
          ],
          "nan_count": 0,
          "unique_count": 12
         }
        },
        {
         "dtype": "object",
         "name": "candidates.last_name",
         "stats": {
          "categories": [
           {
            "count": 25,
            "name": "Obama"
           }
          ],
          "nan_count": 0,
          "unique_count": 1
         }
        },
        {
         "dtype": "int64",
         "name": "_deepnote_index_column"
        }
       ],
       "row_count": 25,
       "rows_bottom": null,
       "rows_top": [
        {
         "_deepnote_index_column": 0,
         "candidates.last_name": "Obama",
         "contibutors.last_name": "Buckler",
         "contributors.first_name": "Steve"
        },
        {
         "_deepnote_index_column": 1,
         "candidates.last_name": "Obama",
         "contibutors.last_name": "Buckler",
         "contributors.first_name": "Steve"
        },
        {
         "_deepnote_index_column": 2,
         "candidates.last_name": "Obama",
         "contibutors.last_name": "Buckheit",
         "contributors.first_name": "Bruce"
        },
        {
         "_deepnote_index_column": 3,
         "candidates.last_name": "Obama",
         "contibutors.last_name": "Buckel",
         "contributors.first_name": "Linda"
        },
        {
         "_deepnote_index_column": 4,
         "candidates.last_name": "Obama",
         "contibutors.last_name": "Buckel",
         "contributors.first_name": "Linda"
        },
        {
         "_deepnote_index_column": 5,
         "candidates.last_name": "Obama",
         "contibutors.last_name": "Buckel",
         "contributors.first_name": "Linda"
        },
        {
         "_deepnote_index_column": 6,
         "candidates.last_name": "Obama",
         "contibutors.last_name": "Buck",
         "contributors.first_name": "Thomas"
        },
        {
         "_deepnote_index_column": 7,
         "candidates.last_name": "Obama",
         "contibutors.last_name": "Buck",
         "contributors.first_name": "Jay"
        },
        {
         "_deepnote_index_column": 8,
         "candidates.last_name": "Obama",
         "contibutors.last_name": "Buck",
         "contributors.first_name": "Blaine"
        },
        {
         "_deepnote_index_column": 9,
         "candidates.last_name": "Obama",
         "contibutors.last_name": "Buck",
         "contributors.first_name": "Barbara"
        },
        {
         "_deepnote_index_column": 10,
         "candidates.last_name": "Obama",
         "contibutors.last_name": "Buck",
         "contributors.first_name": "Barbara"
        },
        {
         "_deepnote_index_column": 11,
         "candidates.last_name": "Obama",
         "contibutors.last_name": "Buchman",
         "contributors.first_name": "Mark M"
        },
        {
         "_deepnote_index_column": 12,
         "candidates.last_name": "Obama",
         "contibutors.last_name": "Bucher",
         "contributors.first_name": "Ida"
        },
        {
         "_deepnote_index_column": 13,
         "candidates.last_name": "Obama",
         "contibutors.last_name": "Buchanek",
         "contributors.first_name": "Elizabeth"
        },
        {
         "_deepnote_index_column": 14,
         "candidates.last_name": "Obama",
         "contibutors.last_name": "Buchanan",
         "contributors.first_name": "John"
        },
        {
         "_deepnote_index_column": 15,
         "candidates.last_name": "Obama",
         "contibutors.last_name": "Buchanan",
         "contributors.first_name": "John"
        },
        {
         "_deepnote_index_column": 16,
         "candidates.last_name": "Obama",
         "contibutors.last_name": "Buchanan",
         "contributors.first_name": "John"
        },
        {
         "_deepnote_index_column": 17,
         "candidates.last_name": "Obama",
         "contibutors.last_name": "Buchanan",
         "contributors.first_name": "John"
        },
        {
         "_deepnote_index_column": 18,
         "candidates.last_name": "Obama",
         "contibutors.last_name": "Buchanan",
         "contributors.first_name": "John"
        },
        {
         "_deepnote_index_column": 19,
         "candidates.last_name": "Obama",
         "contibutors.last_name": "Buchanan",
         "contributors.first_name": "John"
        },
        {
         "_deepnote_index_column": 20,
         "candidates.last_name": "Obama",
         "contibutors.last_name": "Buchanan",
         "contributors.first_name": "John"
        },
        {
         "_deepnote_index_column": 21,
         "candidates.last_name": "Obama",
         "contibutors.last_name": "Buchanan",
         "contributors.first_name": "John"
        },
        {
         "_deepnote_index_column": 22,
         "candidates.last_name": "Obama",
         "contibutors.last_name": "Buchanan",
         "contributors.first_name": "John"
        },
        {
         "_deepnote_index_column": 23,
         "candidates.last_name": "Obama",
         "contibutors.last_name": "Buchanan",
         "contributors.first_name": "John"
        },
        {
         "_deepnote_index_column": 24,
         "candidates.last_name": "Obama",
         "contibutors.last_name": "Harrison",
         "contributors.first_name": "Ryan"
        }
       ]
      },
      "text/html": [
       "<div>\n",
       "<style scoped>\n",
       "    .dataframe tbody tr th:only-of-type {\n",
       "        vertical-align: middle;\n",
       "    }\n",
       "\n",
       "    .dataframe tbody tr th {\n",
       "        vertical-align: top;\n",
       "    }\n",
       "\n",
       "    .dataframe thead th {\n",
       "        text-align: right;\n",
       "    }\n",
       "</style>\n",
       "<table border=\"1\" class=\"dataframe\">\n",
       "  <thead>\n",
       "    <tr style=\"text-align: right;\">\n",
       "      <th></th>\n",
       "      <th>contibutors.last_name</th>\n",
       "      <th>contributors.first_name</th>\n",
       "      <th>candidates.last_name</th>\n",
       "    </tr>\n",
       "  </thead>\n",
       "  <tbody>\n",
       "    <tr>\n",
       "      <th>0</th>\n",
       "      <td>Buckler</td>\n",
       "      <td>Steve</td>\n",
       "      <td>Obama</td>\n",
       "    </tr>\n",
       "    <tr>\n",
       "      <th>1</th>\n",
       "      <td>Buckler</td>\n",
       "      <td>Steve</td>\n",
       "      <td>Obama</td>\n",
       "    </tr>\n",
       "    <tr>\n",
       "      <th>2</th>\n",
       "      <td>Buckheit</td>\n",
       "      <td>Bruce</td>\n",
       "      <td>Obama</td>\n",
       "    </tr>\n",
       "    <tr>\n",
       "      <th>3</th>\n",
       "      <td>Buckel</td>\n",
       "      <td>Linda</td>\n",
       "      <td>Obama</td>\n",
       "    </tr>\n",
       "    <tr>\n",
       "      <th>4</th>\n",
       "      <td>Buckel</td>\n",
       "      <td>Linda</td>\n",
       "      <td>Obama</td>\n",
       "    </tr>\n",
       "    <tr>\n",
       "      <th>5</th>\n",
       "      <td>Buckel</td>\n",
       "      <td>Linda</td>\n",
       "      <td>Obama</td>\n",
       "    </tr>\n",
       "    <tr>\n",
       "      <th>6</th>\n",
       "      <td>Buck</td>\n",
       "      <td>Thomas</td>\n",
       "      <td>Obama</td>\n",
       "    </tr>\n",
       "    <tr>\n",
       "      <th>7</th>\n",
       "      <td>Buck</td>\n",
       "      <td>Jay</td>\n",
       "      <td>Obama</td>\n",
       "    </tr>\n",
       "    <tr>\n",
       "      <th>8</th>\n",
       "      <td>Buck</td>\n",
       "      <td>Blaine</td>\n",
       "      <td>Obama</td>\n",
       "    </tr>\n",
       "    <tr>\n",
       "      <th>9</th>\n",
       "      <td>Buck</td>\n",
       "      <td>Barbara</td>\n",
       "      <td>Obama</td>\n",
       "    </tr>\n",
       "    <tr>\n",
       "      <th>10</th>\n",
       "      <td>Buck</td>\n",
       "      <td>Barbara</td>\n",
       "      <td>Obama</td>\n",
       "    </tr>\n",
       "    <tr>\n",
       "      <th>11</th>\n",
       "      <td>Buchman</td>\n",
       "      <td>Mark M</td>\n",
       "      <td>Obama</td>\n",
       "    </tr>\n",
       "    <tr>\n",
       "      <th>12</th>\n",
       "      <td>Bucher</td>\n",
       "      <td>Ida</td>\n",
       "      <td>Obama</td>\n",
       "    </tr>\n",
       "    <tr>\n",
       "      <th>13</th>\n",
       "      <td>Buchanek</td>\n",
       "      <td>Elizabeth</td>\n",
       "      <td>Obama</td>\n",
       "    </tr>\n",
       "    <tr>\n",
       "      <th>14</th>\n",
       "      <td>Buchanan</td>\n",
       "      <td>John</td>\n",
       "      <td>Obama</td>\n",
       "    </tr>\n",
       "    <tr>\n",
       "      <th>15</th>\n",
       "      <td>Buchanan</td>\n",
       "      <td>John</td>\n",
       "      <td>Obama</td>\n",
       "    </tr>\n",
       "    <tr>\n",
       "      <th>16</th>\n",
       "      <td>Buchanan</td>\n",
       "      <td>John</td>\n",
       "      <td>Obama</td>\n",
       "    </tr>\n",
       "    <tr>\n",
       "      <th>17</th>\n",
       "      <td>Buchanan</td>\n",
       "      <td>John</td>\n",
       "      <td>Obama</td>\n",
       "    </tr>\n",
       "    <tr>\n",
       "      <th>18</th>\n",
       "      <td>Buchanan</td>\n",
       "      <td>John</td>\n",
       "      <td>Obama</td>\n",
       "    </tr>\n",
       "    <tr>\n",
       "      <th>19</th>\n",
       "      <td>Buchanan</td>\n",
       "      <td>John</td>\n",
       "      <td>Obama</td>\n",
       "    </tr>\n",
       "    <tr>\n",
       "      <th>20</th>\n",
       "      <td>Buchanan</td>\n",
       "      <td>John</td>\n",
       "      <td>Obama</td>\n",
       "    </tr>\n",
       "    <tr>\n",
       "      <th>21</th>\n",
       "      <td>Buchanan</td>\n",
       "      <td>John</td>\n",
       "      <td>Obama</td>\n",
       "    </tr>\n",
       "    <tr>\n",
       "      <th>22</th>\n",
       "      <td>Buchanan</td>\n",
       "      <td>John</td>\n",
       "      <td>Obama</td>\n",
       "    </tr>\n",
       "    <tr>\n",
       "      <th>23</th>\n",
       "      <td>Buchanan</td>\n",
       "      <td>John</td>\n",
       "      <td>Obama</td>\n",
       "    </tr>\n",
       "    <tr>\n",
       "      <th>24</th>\n",
       "      <td>Harrison</td>\n",
       "      <td>Ryan</td>\n",
       "      <td>Obama</td>\n",
       "    </tr>\n",
       "  </tbody>\n",
       "</table>\n",
       "</div>"
      ],
      "text/plain": [
       "   contibutors.last_name contributors.first_name candidates.last_name\n",
       "0                Buckler                   Steve                Obama\n",
       "1                Buckler                   Steve                Obama\n",
       "2               Buckheit                   Bruce                Obama\n",
       "3                 Buckel                   Linda                Obama\n",
       "4                 Buckel                   Linda                Obama\n",
       "5                 Buckel                   Linda                Obama\n",
       "6                   Buck                  Thomas                Obama\n",
       "7                   Buck                     Jay                Obama\n",
       "8                   Buck                  Blaine                Obama\n",
       "9                   Buck                 Barbara                Obama\n",
       "10                  Buck                 Barbara                Obama\n",
       "11               Buchman                  Mark M                Obama\n",
       "12                Bucher                     Ida                Obama\n",
       "13              Buchanek               Elizabeth                Obama\n",
       "14              Buchanan                    John                Obama\n",
       "15              Buchanan                    John                Obama\n",
       "16              Buchanan                    John                Obama\n",
       "17              Buchanan                    John                Obama\n",
       "18              Buchanan                    John                Obama\n",
       "19              Buchanan                    John                Obama\n",
       "20              Buchanan                    John                Obama\n",
       "21              Buchanan                    John                Obama\n",
       "22              Buchanan                    John                Obama\n",
       "23              Buchanan                    John                Obama\n",
       "24              Harrison                    Ryan                Obama"
      ]
     },
     "metadata": {},
     "output_type": "display_data"
    }
   ],
   "source": [
    "# Exercise 1\n",
    "query = '''SELECT contributors.last_name, contributors.first_name, candidates.last_name FROM candidates INNER JOIN contributors ON candidates.id = contributors.candidate_id'''\n",
    "new_table_cols = ['contibutors.last_name', 'contributors.first_name', 'candidates.last_name']\n",
    "display(viz_tables(new_table_cols, query))\n",
    "\n",
    "# Exercise 2\n",
    "query2 = '''SELECT contributors.last_name, contributors.first_name, candidates.last_name FROM candidates INNER JOIN contributors ON candidates.id = contributors.candidate_id WHERE candidates.last_name = \"Obama\"'''\n",
    "display(viz_tables(new_table_cols, query2))\n"
   ]
  },
  {
   "cell_type": "markdown",
   "metadata": {
    "cell_id": "00008-ee1af06b-d160-46f5-a936-7c60438cbf25",
    "deepnote_cell_type": "markdown"
   },
   "source": [
    "## `LEFT JOIN` or `LEFT OUTER JOIN`\n",
    "There are many ways to combine two tables.  We just explored one possibility in which we combined the tables based upon the intersection of the two tables (the `INNER JOIN`).\n",
    "\n",
    "Now we'll talk about the `LEFT JOIN` or `LEFT OUTER JOIN`.\n",
    "\n",
    "In words, the `LEFT JOIN` is combining the tables based upon what is in the intersection of the two tables *and* what is in the \"reference\" table.\n",
    "\n",
    "We can consider our toy example in two guises:\n",
    "\n",
    "#### Example A\n",
    "Let's do a `LEFT JOIN` of table B from table A.  That is, we'd like to make a new table by putting table B into table A.  In this case, we'll consider table A our \"reference\" table.  We're comparing by the `id` column again.  We know that these two tables share ids 0 and 2 and table A doesn't have anything else in it.  The resulting table is:\n",
    "\n",
    "| nA   | A.attr  | nB  | B.attr |\n",
    "| :::: | ::::::: | ::: | :::::: |\n",
    "| s1   | 23      | t1  | 60     |\n",
    "| s2   | 7       | t3  | 22     |\n",
    "\n",
    "That's not very exciting.  It's the same result as from the `INNER JOIN`.  We can do another example that may be more enlightening.\n",
    "\n",
    "#### Example B\n",
    "Let's do a `LEFT JOIN` of table A from table B.  That is, we'd like to make a new table by putting table A into table B.  In this case, we'll consider table B our \"reference\" table.  Again, we use the `id` column from comparison.  We know that these two tables share ids 0 and 2.  This time, table B also contains the id 7, which is not shared by table A.  The resulting table is:\n",
    "\n",
    "| nA   | A.attr  | nB  | B.attr |\n",
    "| :::: | ::::::: | ::: | :::::: |\n",
    "| s1   | 23      | t1  | 60     |\n",
    "| None | NaN     | t2  | 14     |\n",
    "| s2   | 7       | t3  | 22     |\n",
    "\n",
    "Notice that `SQLite` filed in the missing entries for us.  This is necessary for completion of the requested join.\n",
    "\n",
    "The `SQLite` commands to accomplish all of this are:\n",
    "\n",
    "```SQL\n",
    "SELECT nA, A.attr, nB, B.attr FROM A LEFT JOIN B ON B.idB = A.idA\n",
    "```\n",
    "\n",
    "and\n",
    "\n",
    "```SQL\n",
    "SELECT nA, A.attr, nB, B.attr FROM B LEFT JOIN A ON A.idA = B.idB\n",
    "```\n",
    "\n",
    "Here is a visualization using Venn diagrams of the `LEFT JOIN`.\n",
    "\n",
    "![](../fig/left_join.png)"
   ]
  },
  {
   "cell_type": "markdown",
   "metadata": {
    "cell_id": "00009-e52c2c98-5b94-479d-bdc4-66f6b688bd82",
    "deepnote_cell_type": "markdown"
   },
   "source": [
    "## Exercises\n",
    "Use the following two tables to do the first two exercises in this section. Table A has the form:\n",
    "\n",
    "| nA   | attr  | idA |\n",
    "| :::: | ::::: | ::: |\n",
    "| s1   | 23    | 0   |\n",
    "| s2   | 7     | 2   |\n",
    "| s3   | 15    | 3   |\n",
    "| s4   | 31    | 7   |\n",
    "\n",
    "and table B has the form:\n",
    "\n",
    "| nB   | attr  | idB |\n",
    "| :::: | ::::: | ::: |\n",
    "| t1   | 60    | 0   |\n",
    "| t2   | 14    | 7   |\n",
    "| t3   | 22    | 2   |\n",
    "\n",
    "1. Draw the table that would result from a `LEFT JOIN` using table A as the reference and the `id` columns for comparison.\n",
    "2. Draw the table that would result from a `LEFT JOIN` using table B as the reference and the `id` columns for comparison.\n",
    "3. Now back to the candidates and their contributors.  Create a new table with the following form:\n",
    "\n",
    "| average contribution | candidate last name |\n",
    "| :::::::::::::::::::: | ::::::::::::::::::: |\n",
    "|    ...               |    ...              |\n",
    "\n",
    "   The table should be created using the `LEFT JOIN` clause on the contributors table by joining the candidates table by the `id` column.  The `average contribution` column should be obtained using the `AVG` `SQL` function. Use the `GROUP BY` clause on the candidates last name."
   ]
  },
  {
   "cell_type": "markdown",
   "metadata": {
    "cell_id": "00011-0a40d2d6-7183-4b83-8b50-023e932d11ed",
    "deepnote_cell_type": "markdown",
    "tags": []
   },
   "source": [
    "### Exercise 1\n",
    "nA |attrA | nB | attrB\n",
    "| :::: | ::::: | ::: |\n",
    "s1 |  23  | t1  | 60  \n",
    "s2 |   7  | t3  |22\n",
    "s3 |  15  | NA  |NA\n",
    "s4 |  31  | t2  | 14\n",
    "\n",
    "### Exercise 2\n",
    "nB |attrB | nA | attrA\n",
    "| :::: | ::::: | ::: |\n",
    "t1 |  60  | s1   | 23  \n",
    "t2 |   4  | s4   |31\n",
    "t3 |  22  | s2   | 7\n"
   ]
  },
  {
   "cell_type": "markdown",
   "metadata": {
    "cell_id": "00012-ad647256-a9d4-42e4-aefc-026da0b399a9",
    "deepnote_cell_type": "markdown",
    "tags": []
   },
   "source": [
    "\n",
    "it works guys!\n",
    "Good work, team! :)\n",
    "\n",
    "Be sure to grab the file!\n",
    "thanks :)"
   ]
  },
  {
   "cell_type": "code",
   "execution_count": 21,
   "metadata": {
    "cell_id": "00012-53ea005d-d81a-4205-8d2c-7104000d82ec",
    "deepnote_cell_type": "code",
    "execution_millis": 7,
    "execution_start": 1605809476045,
    "output_cleared": false,
    "source_hash": "ae5ea20",
    "tags": []
   },
   "outputs": [
    {
     "data": {
      "application/vnd.deepnote.dataframe.v2+json": {
       "column_count": 4,
       "columns": [
        {
         "dtype": "object",
         "name": "contibutors.last_name",
         "stats": {
          "categories": [
           {
            "count": 1,
            "name": "Aaronson"
           },
           {
            "count": 1,
            "name": "Agee"
           },
           {
            "count": 3,
            "name": "3 others"
           }
          ],
          "nan_count": 0,
          "unique_count": 5
         }
        },
        {
         "dtype": "object",
         "name": "contributors.first_name",
         "stats": {
          "categories": [
           {
            "count": 1,
            "name": "Rebecca"
           },
           {
            "count": 1,
            "name": "Steven"
           },
           {
            "count": 3,
            "name": "3 others"
           }
          ],
          "nan_count": 0,
          "unique_count": 5
         }
        },
        {
         "dtype": "object",
         "name": "candidates.last_name",
         "stats": {
          "categories": [
           {
            "count": 1,
            "name": "Clinton"
           },
           {
            "count": 1,
            "name": "Huckabee"
           },
           {
            "count": 3,
            "name": "3 others"
           }
          ],
          "nan_count": 0,
          "unique_count": 5
         }
        },
        {
         "dtype": "float64",
         "name": "average_contributionHERE amount>0",
         "stats": {
          "histogram": [
           {
            "bin_end": 230.39565217391305,
            "bin_start": 170.2173913043478,
            "count": 1
           },
           {
            "bin_end": 290.5739130434782,
            "bin_start": 230.39565217391305,
            "count": 0
           },
           {
            "bin_end": 350.75217391304346,
            "bin_start": 290.5739130434782,
            "count": 1
           },
           {
            "bin_end": 410.9304347826087,
            "bin_start": 350.75217391304346,
            "count": 0
           },
           {
            "bin_end": 471.10869565217394,
            "bin_start": 410.9304347826087,
            "count": 1
           },
           {
            "bin_end": 531.2869565217391,
            "bin_start": 471.10869565217394,
            "count": 0
           },
           {
            "bin_end": 591.4652173913043,
            "bin_start": 531.2869565217391,
            "count": 0
           },
           {
            "bin_end": 651.6434782608696,
            "bin_start": 591.4652173913043,
            "count": 0
           },
           {
            "bin_end": 711.8217391304347,
            "bin_start": 651.6434782608696,
            "count": 1
           },
           {
            "bin_end": 772,
            "bin_start": 711.8217391304347,
            "count": 1
           }
          ],
          "max": 772,
          "min": 170.2173913043478,
          "nan_count": 0,
          "unique_count": 5
         }
        },
        {
         "dtype": "int64",
         "name": "_deepnote_index_column"
        }
       ],
       "row_count": 5,
       "rows_bottom": null,
       "rows_top": [
        {
         "_deepnote_index_column": 0,
         "average_contributionHERE amount>0": 170.2173913043478,
         "candidates.last_name": "Clinton",
         "contibutors.last_name": "Aaronson",
         "contributors.first_name": "Rebecca"
        },
        {
         "_deepnote_index_column": 1,
         "average_contributionHERE amount>0": 772,
         "candidates.last_name": "Huckabee",
         "contibutors.last_name": "Agee",
         "contributors.first_name": "Steven"
        },
        {
         "_deepnote_index_column": 2,
         "average_contributionHERE amount>0": 452.6,
         "candidates.last_name": "McCain",
         "contibutors.last_name": "ABEDIN",
         "contributors.first_name": "ZAINUL"
        },
        {
         "_deepnote_index_column": 3,
         "average_contributionHERE amount>0": 695.9495454545454,
         "candidates.last_name": "Obama",
         "contibutors.last_name": "Buckler",
         "contributors.first_name": "Steve"
        },
        {
         "_deepnote_index_column": 4,
         "average_contributionHERE amount>0": 290.90909090909093,
         "candidates.last_name": "Romney",
         "contibutors.last_name": "ACCORD",
         "contributors.first_name": "DEAN"
        }
       ]
      },
      "text/html": [
       "<div>\n",
       "<style scoped>\n",
       "    .dataframe tbody tr th:only-of-type {\n",
       "        vertical-align: middle;\n",
       "    }\n",
       "\n",
       "    .dataframe tbody tr th {\n",
       "        vertical-align: top;\n",
       "    }\n",
       "\n",
       "    .dataframe thead th {\n",
       "        text-align: right;\n",
       "    }\n",
       "</style>\n",
       "<table border=\"1\" class=\"dataframe\">\n",
       "  <thead>\n",
       "    <tr style=\"text-align: right;\">\n",
       "      <th></th>\n",
       "      <th>contibutors.last_name</th>\n",
       "      <th>contributors.first_name</th>\n",
       "      <th>candidates.last_name</th>\n",
       "      <th>average_contributionHERE amount&gt;0</th>\n",
       "    </tr>\n",
       "  </thead>\n",
       "  <tbody>\n",
       "    <tr>\n",
       "      <th>0</th>\n",
       "      <td>Aaronson</td>\n",
       "      <td>Rebecca</td>\n",
       "      <td>Clinton</td>\n",
       "      <td>170.217391</td>\n",
       "    </tr>\n",
       "    <tr>\n",
       "      <th>1</th>\n",
       "      <td>Agee</td>\n",
       "      <td>Steven</td>\n",
       "      <td>Huckabee</td>\n",
       "      <td>772.000000</td>\n",
       "    </tr>\n",
       "    <tr>\n",
       "      <th>2</th>\n",
       "      <td>ABEDIN</td>\n",
       "      <td>ZAINUL</td>\n",
       "      <td>McCain</td>\n",
       "      <td>452.600000</td>\n",
       "    </tr>\n",
       "    <tr>\n",
       "      <th>3</th>\n",
       "      <td>Buckler</td>\n",
       "      <td>Steve</td>\n",
       "      <td>Obama</td>\n",
       "      <td>695.949545</td>\n",
       "    </tr>\n",
       "    <tr>\n",
       "      <th>4</th>\n",
       "      <td>ACCORD</td>\n",
       "      <td>DEAN</td>\n",
       "      <td>Romney</td>\n",
       "      <td>290.909091</td>\n",
       "    </tr>\n",
       "  </tbody>\n",
       "</table>\n",
       "</div>"
      ],
      "text/plain": [
       "  contibutors.last_name contributors.first_name candidates.last_name  average_contributionHERE amount>0\n",
       "0              Aaronson                 Rebecca              Clinton                         170.217391\n",
       "1                  Agee                  Steven             Huckabee                         772.000000\n",
       "2                ABEDIN                  ZAINUL               McCain                         452.600000\n",
       "3               Buckler                   Steve                Obama                         695.949545\n",
       "4                ACCORD                    DEAN               Romney                         290.909091"
      ]
     },
     "metadata": {},
     "output_type": "display_data"
    }
   ],
   "source": [
    "# Exercise 3\n",
    "query = '''SELECT contributors.last_name, contributors.first_name, candidates.last_name, AVG(contributors.amount)  FROM contributors LEFT JOIN candidates ON candidates.id = contributors.candidate_id WHERE amount > 0 GROUP BY candidates.last_name'''\n",
    "new_table_cols = ['contibutors.last_name', 'contributors.first_name', 'candidates.last_name', 'average_contributionHERE amount>0']\n",
    "display(viz_tables(new_table_cols, query))"
   ]
  },
  {
   "cell_type": "code",
   "execution_count": null,
   "metadata": {
    "cell_id": "00013-a6e53a70-a127-44c3-a909-adbfa8107c62",
    "deepnote_cell_type": "code",
    "tags": []
   },
   "outputs": [],
   "source": []
  },
  {
   "cell_type": "markdown",
   "metadata": {
    "cell_id": "00010-1bbc39de-e669-4946-a0cb-da7b462752d2",
    "deepnote_cell_type": "markdown"
   },
   "source": [
    "---"
   ]
  },
  {
   "cell_type": "markdown",
   "metadata": {
    "cell_id": "00011-8c97a162-a3ff-4747-a485-4b69d04274d3",
    "deepnote_cell_type": "markdown"
   },
   "source": [
    "# `pandas`"
   ]
  },
  {
   "cell_type": "markdown",
   "metadata": {
    "cell_id": "00012-811989cf-4f95-45be-8bfa-c7d1c677cc51",
    "deepnote_cell_type": "markdown"
   },
   "source": [
    "We've been working with databases for the last few lectures and learning `SQLite` commands to work with and manipulate the databases.  There is a `Python` package called `pandas` that provides broad support for data structures.  It can be used to interact with relationsional databases through its own methods and even through `SQL` commands.\n",
    "\n",
    "In the last part of this lecture, you will get to redo a bunch of the database exercises using `pandas`.\n",
    "\n",
    "We won't be able to cover `pandas` from the ground up, but it's a well-documented library and is fairly easy to get up and running.  Here's the website:  [`pandas`](http://pandas.pydata.org/)."
   ]
  },
  {
   "cell_type": "markdown",
   "metadata": {
    "cell_id": "00013-75ad2706-5d82-424b-8800-c82fc329b974",
    "deepnote_cell_type": "markdown"
   },
   "source": [
    "## Reading a datafile into `pandas`"
   ]
  },
  {
   "cell_type": "code",
   "execution_count": null,
   "metadata": {
    "cell_id": "00014-35e155b6-16a8-4b0b-8e2a-af09a5595475",
    "deepnote_cell_type": "code"
   },
   "outputs": [],
   "source": [
    "# Using pandas naming convention\n",
    "dfcand = pd.read_csv(\"candidates.txt\", sep=\"|\")\n",
    "dfcand"
   ]
  },
  {
   "cell_type": "code",
   "execution_count": null,
   "metadata": {
    "cell_id": "00015-f64fde46-2a94-4c09-a7e8-e53dd6aaf19d",
    "deepnote_cell_type": "code"
   },
   "outputs": [],
   "source": [
    "dfcontr = pd.read_csv(\"contributors.txt\", sep=\"|\")\n",
    "dfcontr"
   ]
  },
  {
   "cell_type": "markdown",
   "metadata": {
    "cell_id": "00016-2d5cbf20-638d-42fd-ab09-e85b80926f28",
    "deepnote_cell_type": "markdown"
   },
   "source": [
    "Reading things in is quite easy with `pandas`.\n",
    "\n",
    "Notice that `pandas` populates empty fields with `NaN` values.\n",
    "\n",
    "The `id` column in the contributors dataset is superfluous.  Let's delete it."
   ]
  },
  {
   "cell_type": "code",
   "execution_count": null,
   "metadata": {
    "cell_id": "00017-9ff7f45b-6429-4ad1-9f39-2629a02158de",
    "deepnote_cell_type": "code"
   },
   "outputs": [],
   "source": [
    "del dfcontr['id']\n",
    "dfcontr.head()"
   ]
  },
  {
   "cell_type": "markdown",
   "metadata": {
    "cell_id": "00018-df5617b4-d21e-4590-b5f7-61d1817d04a0",
    "deepnote_cell_type": "markdown"
   },
   "source": [
    "Very nice!  And we used the `head` method to print out the first five rows."
   ]
  },
  {
   "cell_type": "markdown",
   "metadata": {
    "cell_id": "00019-7d2bb527-7afb-4d0a-adf2-9b4c6307feae",
    "deepnote_cell_type": "markdown"
   },
   "source": [
    "## Creating a Table with `pandas`\n",
    "We can use `pandas` to create tables in a database.\n",
    "\n",
    "First, let's create a new database since we've already done a lot on our test database."
   ]
  },
  {
   "cell_type": "code",
   "execution_count": null,
   "metadata": {
    "cell_id": "00020-42f31007-0860-41bf-8d59-b78fe9a207be",
    "deepnote_cell_type": "code"
   },
   "outputs": [],
   "source": [
    "dbp = sqlite3.connect('L21_pandas_DB.sqlite')\n",
    "csr = dbp.cursor()\n",
    "csr.execute(\"DROP TABLE IF EXISTS candidates\")\n",
    "csr.execute(\"DROP TABLE IF EXISTS contributors\")\n",
    "csr.execute(\"PRAGMA foreign_keys=1\")\n",
    "\n",
    "csr.execute('''CREATE TABLE candidates (\n",
    "               id INTEGER PRIMARY KEY NOT NULL, \n",
    "               first_name TEXT, \n",
    "               last_name TEXT, \n",
    "               middle_name TEXT, \n",
    "               party TEXT NOT NULL)''')\n",
    "\n",
    "dbp.commit() # Commit changes to the database\n",
    "\n",
    "csr.execute('''CREATE TABLE contributors (\n",
    "          id INTEGER PRIMARY KEY AUTOINCREMENT NOT NULL, \n",
    "          last_name TEXT, \n",
    "          first_name TEXT, \n",
    "          middle_name TEXT, \n",
    "          street_1 TEXT, \n",
    "          street_2 TEXT, \n",
    "          city TEXT, \n",
    "          state TEXT, \n",
    "          zip TEXT, \n",
    "          amount REAL, \n",
    "          date DATETIME, \n",
    "          candidate_id INTEGER NOT NULL, \n",
    "          FOREIGN KEY(candidate_id) REFERENCES candidates(id))''')\n",
    "\n",
    "dbp.commit()"
   ]
  },
  {
   "cell_type": "markdown",
   "metadata": {
    "cell_id": "00021-1f0538de-9279-4bc0-8014-e547045693ea",
    "deepnote_cell_type": "markdown"
   },
   "source": [
    "Last time, we opened the data files with `Python` and then manually used `SQLite` commands to populate the individual tables.  We can use `pandas` instead like so."
   ]
  },
  {
   "cell_type": "code",
   "execution_count": null,
   "metadata": {
    "cell_id": "00022-eee5f491-0d8b-4c13-acff-339d169a9d67",
    "deepnote_cell_type": "code"
   },
   "outputs": [],
   "source": [
    "dfcand.to_sql(\"candidates\", dbp, if_exists=\"append\", index=False)"
   ]
  },
  {
   "cell_type": "markdown",
   "metadata": {
    "cell_id": "00023-e67749fe-0a81-4432-85c8-ace868a6d25e",
    "deepnote_cell_type": "markdown"
   },
   "source": [
    "How big is our table?"
   ]
  },
  {
   "cell_type": "code",
   "execution_count": null,
   "metadata": {
    "cell_id": "00024-f3cc6515-fe75-4b7a-bd41-2aebfe762b4a",
    "deepnote_cell_type": "code"
   },
   "outputs": [],
   "source": [
    "dfcand.shape"
   ]
  },
  {
   "cell_type": "markdown",
   "metadata": {
    "cell_id": "00025-5ec9dc08-91c3-4de3-999b-0ee556125ebc",
    "deepnote_cell_type": "markdown"
   },
   "source": [
    "We can visualize the data in our `pandas`-populated table.  No surprises here except that `pandas` did everything for us."
   ]
  },
  {
   "cell_type": "code",
   "execution_count": null,
   "metadata": {
    "cell_id": "00026-638eb8a9-cb3b-4087-86e2-7a7034ee1bd1",
    "deepnote_cell_type": "code",
    "scrolled": true
   },
   "outputs": [],
   "source": [
    "query = '''SELECT * FROM candidates'''\n",
    "csr.execute(query).fetchall()"
   ]
  },
  {
   "cell_type": "markdown",
   "metadata": {
    "cell_id": "00027-a5afcdbd-2eb9-477c-8292-d1ec397a40dd",
    "deepnote_cell_type": "markdown"
   },
   "source": [
    "## Querying a table with `pandas`"
   ]
  },
  {
   "cell_type": "markdown",
   "metadata": {
    "cell_id": "00028-96bcc14d-0c69-477b-a9d7-09abfbab73b3",
    "deepnote_cell_type": "markdown"
   },
   "source": [
    "### One Way"
   ]
  },
  {
   "cell_type": "code",
   "execution_count": null,
   "metadata": {
    "cell_id": "00029-4a127c82-2bd3-42cf-a1c4-4db982b293a8",
    "deepnote_cell_type": "code"
   },
   "outputs": [],
   "source": [
    "dfcand.query(\"first_name=='Mike' & party=='D'\")"
   ]
  },
  {
   "cell_type": "markdown",
   "metadata": {
    "cell_id": "00030-0f1863db-c799-4945-9553-a36df86aa8dd",
    "deepnote_cell_type": "markdown"
   },
   "source": [
    "### Another Way"
   ]
  },
  {
   "cell_type": "code",
   "execution_count": null,
   "metadata": {
    "cell_id": "00031-cafca96c-bbe8-4c01-9569-13ff5d0db333",
    "deepnote_cell_type": "code"
   },
   "outputs": [],
   "source": [
    "dfcand[(dfcand.first_name==\"Mike\") & (dfcand.party==\"D\")]"
   ]
  },
  {
   "cell_type": "markdown",
   "metadata": {
    "cell_id": "00032-15ef641f-b1b5-4ba8-9b85-415f56160f66",
    "deepnote_cell_type": "markdown"
   },
   "source": [
    "### More Queries"
   ]
  },
  {
   "cell_type": "code",
   "execution_count": null,
   "metadata": {
    "cell_id": "00033-57eeb7d1-fd68-4372-8675-bbb3de10241d",
    "deepnote_cell_type": "code"
   },
   "outputs": [],
   "source": [
    "dfcand[dfcand.middle_name.notnull()]"
   ]
  },
  {
   "cell_type": "code",
   "execution_count": null,
   "metadata": {
    "cell_id": "00034-069b206a-cd80-4c27-8a3e-5e89af6963bc",
    "deepnote_cell_type": "code"
   },
   "outputs": [],
   "source": [
    "dfcand[dfcand.first_name.isin(['Mike', 'Hillary'])]"
   ]
  },
  {
   "cell_type": "markdown",
   "metadata": {
    "cell_id": "00035-1ada66d2-c640-4329-9ffb-d2428b5fe515",
    "deepnote_cell_type": "markdown"
   },
   "source": [
    "## Exercises\n",
    "1. Use `pandas` to populate the contributors table.\n",
    "2. Query the contributors tables with the following:\n",
    "  1. List entries where the state is \"VA\" and the amount is less than $\\$400.00$.\n",
    "  2. List entries where the state is \"NULL\".\n",
    "  3. List entries for the states of Texas and Pennsylvania.\n",
    "  4. List entries where the amount contributed is between $\\$10.00$ and $\\$50.00$."
   ]
  },
  {
   "cell_type": "markdown",
   "metadata": {
    "cell_id": "00036-7107568d-553d-4c9a-801f-8d9b675b8da7",
    "deepnote_cell_type": "markdown"
   },
   "source": [
    "## Sorting"
   ]
  },
  {
   "cell_type": "code",
   "execution_count": null,
   "metadata": {
    "cell_id": "00037-095c0260-1cf0-453e-a8b1-b73c863fb4ef",
    "deepnote_cell_type": "code"
   },
   "outputs": [],
   "source": [
    "dfcand.sort_values(by='party')"
   ]
  },
  {
   "cell_type": "code",
   "execution_count": null,
   "metadata": {
    "cell_id": "00038-9c96197b-a0e1-4282-9f47-2382aee66384",
    "deepnote_cell_type": "code"
   },
   "outputs": [],
   "source": [
    "dfcand.sort_values(by='party', ascending=False)"
   ]
  },
  {
   "cell_type": "markdown",
   "metadata": {
    "cell_id": "00039-703c5e47-927d-44f1-8ae5-4ca7158657be",
    "deepnote_cell_type": "markdown"
   },
   "source": [
    "## Selecting Columns"
   ]
  },
  {
   "cell_type": "code",
   "execution_count": null,
   "metadata": {
    "cell_id": "00040-76492cc6-25a2-4eac-af30-ae80c2944f36",
    "deepnote_cell_type": "code",
    "scrolled": true
   },
   "outputs": [],
   "source": [
    "dfcand[['last_name', 'party']]"
   ]
  },
  {
   "cell_type": "code",
   "execution_count": null,
   "metadata": {
    "cell_id": "00041-ef48946a-01ff-41e1-91f9-4dd8d0bb16b6",
    "deepnote_cell_type": "code"
   },
   "outputs": [],
   "source": [
    "dfcand[['last_name', 'party']].count()"
   ]
  },
  {
   "cell_type": "code",
   "execution_count": null,
   "metadata": {
    "cell_id": "00042-264acdb9-94c1-4f19-a324-cf4ec41dfbf5",
    "deepnote_cell_type": "code"
   },
   "outputs": [],
   "source": [
    "dfcand[['first_name']].drop_duplicates()"
   ]
  },
  {
   "cell_type": "code",
   "execution_count": null,
   "metadata": {
    "cell_id": "00043-eedbea08-773c-4ff8-aa26-3d8ca56270a8",
    "deepnote_cell_type": "code"
   },
   "outputs": [],
   "source": [
    "dfcand[['first_name']].drop_duplicates().count()"
   ]
  },
  {
   "cell_type": "markdown",
   "metadata": {
    "cell_id": "00044-25b7e18c-c6de-4b53-bd9a-6ef1e259f86f",
    "deepnote_cell_type": "markdown"
   },
   "source": [
    "## Exercises\n",
    "1. Sort the contributors table by `amount` and order in *descending* order.\n",
    "2. Select the `first_name` and `amount` columns.\n",
    "3. Select the `last_name` and `first_name` columns and drop duplicates.\n",
    "4. Count how many there are after the duplicates have been dropped."
   ]
  },
  {
   "cell_type": "markdown",
   "metadata": {
    "cell_id": "00045-14242406-c277-4456-8519-acc3ca1eea10",
    "deepnote_cell_type": "markdown"
   },
   "source": [
    "## Altering Tables"
   ]
  },
  {
   "cell_type": "markdown",
   "metadata": {
    "cell_id": "00046-cbad2c37-f79f-4d3a-8ad3-72967cd1c1ea",
    "deepnote_cell_type": "markdown"
   },
   "source": [
    "Creating a new column is quite easy with `pandas`."
   ]
  },
  {
   "cell_type": "code",
   "execution_count": null,
   "metadata": {
    "cell_id": "00047-71e46af9-25f9-423e-b942-c50578cf7bee",
    "deepnote_cell_type": "code"
   },
   "outputs": [],
   "source": [
    "dfcand['name'] = dfcand['last_name'] + \", \" + dfcand['first_name']\n",
    "dfcand"
   ]
  },
  {
   "cell_type": "markdown",
   "metadata": {
    "cell_id": "00048-8ad1e05a-56ba-4ed6-a0bf-c9321e3cc0c1",
    "deepnote_cell_type": "markdown"
   },
   "source": [
    "We can change an existing field as well."
   ]
  },
  {
   "cell_type": "code",
   "execution_count": null,
   "metadata": {
    "cell_id": "00049-b331154d-f3a3-4707-904c-8e768231d7ca",
    "deepnote_cell_type": "code"
   },
   "outputs": [],
   "source": [
    "dfcand.loc[dfcand.first_name == \"Mike\", \"name\"]"
   ]
  },
  {
   "cell_type": "code",
   "execution_count": null,
   "metadata": {
    "cell_id": "00050-5c599b9e-139a-470b-bcad-3be34cae60b4",
    "deepnote_cell_type": "code"
   },
   "outputs": [],
   "source": [
    "dfcand.loc[dfcand.first_name == \"Mike\", \"name\"] = \"Mikey\""
   ]
  },
  {
   "cell_type": "code",
   "execution_count": null,
   "metadata": {
    "cell_id": "00051-0649d555-f78b-4480-b4fa-e99c39f093ff",
    "deepnote_cell_type": "code"
   },
   "outputs": [],
   "source": [
    "dfcand.query(\"first_name == 'Mike'\")"
   ]
  },
  {
   "cell_type": "markdown",
   "metadata": {
    "cell_id": "00052-15735686-ea16-4d9f-b1d2-afe6f54eed4b",
    "deepnote_cell_type": "markdown"
   },
   "source": [
    "You may recall that `SQLite` doesn't have the functionality to drop a column.  It's a one-liner with `pandas`."
   ]
  },
  {
   "cell_type": "code",
   "execution_count": null,
   "metadata": {
    "cell_id": "00053-b0f67d49-c480-45f3-80c3-9b46ebb540c5",
    "deepnote_cell_type": "code"
   },
   "outputs": [],
   "source": [
    "del dfcand['name']\n",
    "dfcand"
   ]
  },
  {
   "cell_type": "markdown",
   "metadata": {
    "cell_id": "00054-5312e615-d06b-4d33-af63-8e26f51f48a4",
    "deepnote_cell_type": "markdown"
   },
   "source": [
    "## Exercises\n",
    "1. Create a name column for the contributors table with field entries of the form \"last name, first name\"\n",
    "2. For contributors from the state of \"PA\", change the name to \"X\".\n",
    "3. Delete the newly created name column."
   ]
  },
  {
   "cell_type": "markdown",
   "metadata": {
    "cell_id": "00055-7ab5a267-484b-4bf2-af7a-9a03a600cdfe",
    "deepnote_cell_type": "markdown"
   },
   "source": [
    "## Aggregation\n",
    "We'd like to get information about the tables such as the maximum amount contributed to the candidates.  Here are a bunch of ways to describe the tables."
   ]
  },
  {
   "cell_type": "code",
   "execution_count": null,
   "metadata": {
    "cell_id": "00056-16f94943-3dd9-46d9-ab8f-5051e29d959f",
    "deepnote_cell_type": "code"
   },
   "outputs": [],
   "source": [
    "dfcand.describe()"
   ]
  },
  {
   "cell_type": "markdown",
   "metadata": {
    "cell_id": "00057-cc4016db-8bf4-441b-80c2-c1c4b742fe99",
    "deepnote_cell_type": "markdown"
   },
   "source": [
    "It's not very interesting with the candidates table because the candidates table only has one numeric column."
   ]
  },
  {
   "cell_type": "markdown",
   "metadata": {
    "cell_id": "00058-1f58ca0c-f29a-4796-be73-b99283b4ef8c",
    "deepnote_cell_type": "markdown"
   },
   "source": [
    "## Exercise\n",
    "Use the `describe()` method on the `contributors` table."
   ]
  },
  {
   "cell_type": "markdown",
   "metadata": {
    "cell_id": "00059-41e2dce5-2e8a-4430-98f3-bb76db8ec544",
    "deepnote_cell_type": "markdown"
   },
   "source": [
    "I'll use the contributors table to do some demos now."
   ]
  },
  {
   "cell_type": "code",
   "execution_count": null,
   "metadata": {
    "cell_id": "00060-efe6bd5f-3b13-4408-bcaf-0b1036141a98",
    "deepnote_cell_type": "code"
   },
   "outputs": [],
   "source": [
    "dfcontr.amount.max()"
   ]
  },
  {
   "cell_type": "code",
   "execution_count": null,
   "metadata": {
    "cell_id": "00061-53f11b30-02da-4072-8f23-297dcead4894",
    "deepnote_cell_type": "code"
   },
   "outputs": [],
   "source": [
    "dfcontr[dfcontr.amount==dfcontr.amount.max()]"
   ]
  },
  {
   "cell_type": "code",
   "execution_count": null,
   "metadata": {
    "cell_id": "00062-55255d5c-3d90-4d69-b551-6ab69feb4e51",
    "deepnote_cell_type": "code"
   },
   "outputs": [],
   "source": [
    "dfcontr.groupby(\"state\").sum()"
   ]
  },
  {
   "cell_type": "code",
   "execution_count": null,
   "metadata": {
    "cell_id": "00063-2bd0980f-bc76-4453-88db-21da654e7b5c",
    "deepnote_cell_type": "code"
   },
   "outputs": [],
   "source": [
    "dfcontr.groupby(\"state\")[\"amount\"].sum()"
   ]
  },
  {
   "cell_type": "code",
   "execution_count": null,
   "metadata": {
    "cell_id": "00064-54aaa774-7da9-481a-85ca-a01fb2021a12",
    "deepnote_cell_type": "code"
   },
   "outputs": [],
   "source": [
    "dfcontr.state.unique()"
   ]
  },
  {
   "cell_type": "markdown",
   "metadata": {
    "cell_id": "00065-0c44f340-85af-4f66-a7ea-8c15ef775d04",
    "deepnote_cell_type": "markdown"
   },
   "source": [
    "There is also a version of the `LIMIT` clause.  It's very intuitive with `pandas`."
   ]
  },
  {
   "cell_type": "code",
   "execution_count": null,
   "metadata": {
    "cell_id": "00066-ed6ae40e-1925-4359-9e1a-a1a4f2a33024",
    "deepnote_cell_type": "code"
   },
   "outputs": [],
   "source": [
    "dfcand[0:3]"
   ]
  },
  {
   "cell_type": "markdown",
   "metadata": {
    "cell_id": "00067-6b4fdb31-711f-4937-be6f-7159cfab8a9d",
    "deepnote_cell_type": "markdown"
   },
   "source": [
    "The usual `Python` slicing works just fine!"
   ]
  },
  {
   "cell_type": "markdown",
   "metadata": {
    "cell_id": "00068-d35274b0-64a4-461e-b122-ad0fa2532a2c",
    "deepnote_cell_type": "markdown"
   },
   "source": [
    "## Joins with `pandas`"
   ]
  },
  {
   "cell_type": "markdown",
   "metadata": {
    "cell_id": "00069-c9a08a06-8e7b-46be-8406-73939aa9eee0",
    "deepnote_cell_type": "markdown"
   },
   "source": [
    "`pandas` has some some documentation on `joins`:  [Merge, join, and concatenate](http://pandas.pydata.org/pandas-docs/stable/merging.html).  If you want some more reinforcement on the concepts from earlier regarding `JOIN`, then the `pandas` documentation may be a good place to get it.\n",
    "\n",
    "You may also be interested in [a comparison with `SQL`](http://pandas.pydata.org/pandas-docs/stable/comparison_with_sql.html#compare-with-sql-join).\n",
    "\n",
    "To do joins with `pandas`, we use the `merge` command."
   ]
  },
  {
   "cell_type": "markdown",
   "metadata": {
    "cell_id": "00070-9b1678e6-aed5-44ae-ad92-71a18294cbc5",
    "deepnote_cell_type": "markdown"
   },
   "source": [
    "Here's an example of an explicit inner join:"
   ]
  },
  {
   "cell_type": "code",
   "execution_count": null,
   "metadata": {
    "cell_id": "00071-2c665a8d-7071-45e6-bbc9-be02fe7604bc",
    "deepnote_cell_type": "code"
   },
   "outputs": [],
   "source": [
    "cols_wanted = ['last_name_x', 'first_name_x', 'candidate_id', 'id', 'last_name_y']\n",
    "dfcontr.merge(dfcand, left_on=\"candidate_id\", right_on=\"id\")[cols_wanted]"
   ]
  },
  {
   "cell_type": "markdown",
   "metadata": {
    "cell_id": "00072-a0c4d0aa-819a-435e-ac35-65373207d98a",
    "deepnote_cell_type": "markdown"
   },
   "source": [
    "#### Somewhat organized example"
   ]
  },
  {
   "cell_type": "code",
   "execution_count": null,
   "metadata": {
    "cell_id": "00073-bd6f5685-6d11-4f66-a5ba-b3f75454aff6",
    "deepnote_cell_type": "code"
   },
   "outputs": [],
   "source": [
    "dfcontr.merge(dfcand, left_on=\"candidate_id\", right_on=\"id\")[cols_wanted].groupby('last_name_y').describe()"
   ]
  },
  {
   "cell_type": "markdown",
   "metadata": {
    "cell_id": "00074-6814c522-78e1-4144-abbc-07c99d989fb7",
    "deepnote_cell_type": "markdown"
   },
   "source": [
    "### Other Joins with `pandas`\n",
    "We didn't cover all possible joins because `SQLite` can only handle the few that we did discuss.  As mentioned, there are workarounds for some things in `SQLite`, but not evertyhing.  Fortunately, `pandas` can handle pretty much everything.  Here are a few joins that `pandas` can handle:\n",
    "* `LEFT OUTER` (already discussed)\n",
    "* `RIGHT OUTER` - Think of the \"opposite\" of a `LEFT OUTER` join (shade the intersection and *right* set in the Venn diagram).\n",
    "* `FULL OUTER` - Combine everything from both tables (shade the entire Venn diagram)"
   ]
  },
  {
   "cell_type": "markdown",
   "metadata": {
    "cell_id": "00075-072fecc7-7990-4c30-8977-a0238be9cc31",
    "deepnote_cell_type": "markdown"
   },
   "source": [
    "#### Left Outer Join with `pandas`"
   ]
  },
  {
   "cell_type": "code",
   "execution_count": null,
   "metadata": {
    "cell_id": "00076-5d0302ce-91eb-4c94-a775-817ce76cc561",
    "deepnote_cell_type": "code"
   },
   "outputs": [],
   "source": [
    "dfcontr.merge(dfcand, left_on=\"candidate_id\", right_on=\"id\", how=\"left\")[cols_wanted]"
   ]
  },
  {
   "cell_type": "markdown",
   "metadata": {
    "cell_id": "00077-4e0a4d44-5482-46c4-9498-4581376f3ac4",
    "deepnote_cell_type": "markdown"
   },
   "source": [
    "#### Right Outer Join with `pandas`"
   ]
  },
  {
   "cell_type": "code",
   "execution_count": null,
   "metadata": {
    "cell_id": "00078-6b7c3461-e32f-4086-823f-17521e5eda42",
    "deepnote_cell_type": "code"
   },
   "outputs": [],
   "source": [
    "dfcontr.merge(dfcand, left_on=\"candidate_id\", right_on=\"id\", how=\"right\")[cols_wanted]"
   ]
  },
  {
   "cell_type": "markdown",
   "metadata": {
    "cell_id": "00079-c5c5b277-176f-4ba7-a54e-a1a8de4a4679",
    "deepnote_cell_type": "markdown"
   },
   "source": [
    "#### Full Outer Join with `pandas`"
   ]
  },
  {
   "cell_type": "code",
   "execution_count": null,
   "metadata": {
    "cell_id": "00080-99812415-53dc-4b3c-8e7d-a72a5782d0ba",
    "deepnote_cell_type": "code"
   },
   "outputs": [],
   "source": [
    "dfcontr.merge(dfcand, left_on=\"candidate_id\", right_on=\"id\", how=\"outer\")[cols_wanted]"
   ]
  }
 ],
 "metadata": {
  "deepnote_execution_queue": [],
  "deepnote_notebook_id": "c86b57a6-7f07-4dcf-a972-0d809052576b",
  "kernelspec": {
   "display_name": "Python 3",
   "language": "python",
   "name": "python3"
  },
  "language_info": {
   "codemirror_mode": {
    "name": "ipython",
    "version": 3
   },
   "file_extension": ".py",
   "mimetype": "text/x-python",
   "name": "python",
   "nbconvert_exporter": "python",
   "pygments_lexer": "ipython3",
   "version": "3.8.5"
  }
 },
 "nbformat": 4,
 "nbformat_minor": 4
}
